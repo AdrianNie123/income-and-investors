{
  "cells": [
    {
      "cell_type": "markdown",
      "metadata": {
        "id": "IRNfPXTVc9O5"
      },
      "source": [
        "\n",
        "\n",
        "Prof: Eric Van Dusen  \n"
      ]
    },
    {
      "cell_type": "markdown",
      "metadata": {
        "id": "a5j45okXqyhW"
      },
      "source": [
        "# \"Who Becomes An Inventor In America\" -- Income and Innovation\n",
        "\n"
      ]
    },
    {
      "cell_type": "markdown",
      "metadata": {
        "id": "pKWdINFZqyhY"
      },
      "source": [
        "## Abstract \n",
        "Our paper summarizes Raj Chetty's study on the link between socioeconomic factors and innovation in the US. The original study found that children from high-income families are more likely to become inventors. Two insight questions were raised and answered using regression models. The first question examined the relationship between intergenerational wealth and the persistence of innovation. The utilizing linear and ridge lasso regression models indicated that Baby Boomers received more rewards than recent inventors, and decision-makers should establish policies to ensure inventor remuneration rights. The second question investigated whether the income effect varies across colleges. We found that the effect of income on the number of inventors is not significant for community colleges, but there is a positive effect for non-community colleges. Our models coupled with Chetty’s work show how there are many factors impacting the number of inventors and the inventor lifecycle."
      ]
    },
    {
      "cell_type": "markdown",
      "metadata": {
        "id": "2SmFenIhqyhY"
      },
      "source": [
        "## Project Background \n",
        "Widely regarded as a key economic growth factor, innovation can be found in any age group. Raj Chetty’s paper “Who becomes an inventor in America? The importance of exposure to innovation” explores which individuals and their circumstances lead to them becoming an inventor. In other studies of innovation, there is a lack in the connection between innovation and environmental factors, but Chetty creates a more complete ‘portrait of inventors’ in the US today by looking at patent records and individual patent characteristics to study the link between socioeconomic factors and innovation. Chetty argues that a large portion of the propensity to innovate comes from environmental factors, and this paper studies the relationship between innovative ability and three distinct factors: economic class, race, and gender.\n",
        "\n",
        "The paper provides important insights into the role of environmental factors in shaping innovation, and highlights the need to increase access to innovation for all individuals, regardless of socioeconomic background. In our regressions using the provided datasets in Raj Chetty’s research, we take Innovation Rates by College and Income Distributions of Inventors by Year and Age to delve into the relationship between innovation and socioeconomic class.\n",
        "\n",
        "For our first insight question: Section 3 in the article titled Gaps in Innovation by Characteristics at Birth states that a predictive factor, for the propensity to innovate, such as income will show that children from high-income families are ten times as likely to become inventors as those from below-median income families. Parental income, the characteristic in question, does play a role, thus saying that a difference in environment, the nurture factor, can increase or decrease one’s ability to innovate. This circumstance then bears the question of intergenerational wealth, where we identify that innovation continues to trend upwards throughout generations and whether or not this is due to intergenerational wealth. In our regression models for insight question #1, we seek to reproduce the analysis between average income and the generations provided in the study’s data-frame’s, 4a, in order to see whether or not wealth is also transmitting upwards because a greater average income in succeeding generations, will show that this environmental factor is a relevant variable in the intergenerational persistence of innovation.\n",
        "\n",
        "For our second insight question: inspired by the finding in paper “gaps in innovation by parental income are relatively small among children who attend the same college” (Chetty et al 17), we are interested in studying the income effect as our variable of interest and the number of inventors as a covariate to predict the number of patents, and finding out if the income effect varies across colleges (community colleges vs. regular colleges)."
      ]
    },
    {
      "cell_type": "markdown",
      "metadata": {
        "id": "Uu9JTpv-qyhZ"
      },
      "source": [
        "## Project Objective (5 points)\n",
        "The purpose of this project is to measure the impact of socioeconomic class as a predictor of the propensity to innovate, specifically the differences in generational income and type of college attended.\n"
      ]
    },
    {
      "cell_type": "markdown",
      "metadata": {
        "id": "lhaahw4dqyhZ"
      },
      "source": [
        "## Data Description (5 points)\n"
      ]
    },
    {
      "cell_type": "code",
      "execution_count": null,
      "metadata": {
        "id": "_iB442PS-Ww3"
      },
      "outputs": [],
      "source": [
        "import matplotlib.pyplot as plt\n",
        "import numpy as np\n",
        "import pandas as pd\n",
        "import statsmodels.api as sm\n",
        "import seaborn as sns\n",
        "\n",
        "from sklearn.linear_model import LinearRegression\n",
        "from sklearn.linear_model import Ridge\n",
        "from sklearn.linear_model import Lasso\n",
        "from sklearn.tree import DecisionTreeRegressor\n",
        "from sklearn import tree\n",
        "from sklearn.metrics import mean_squared_error\n",
        "from sklearn.model_selection import train_test_split\n",
        "from sklearn.utils import shuffle"
      ]
    },
    {
      "cell_type": "code",
      "execution_count": null,
      "metadata": {
        "colab": {
          "base_uri": "https://localhost:8080/",
          "height": 488
        },
        "id": "K_iH-WfU9PlT",
        "outputId": "3fe5fd0f-4341-4280-bad8-08fd5465265c"
      },
      "outputs": [
        {
          "data": {
            "text/html": [
              "\n",
              "  <div id=\"df-bd568d72-40e4-47ea-9159-a44fe755c154\">\n",
              "    <div class=\"colab-df-container\">\n",
              "      <div>\n",
              "<style scoped>\n",
              "    .dataframe tbody tr th:only-of-type {\n",
              "        vertical-align: middle;\n",
              "    }\n",
              "\n",
              "    .dataframe tbody tr th {\n",
              "        vertical-align: top;\n",
              "    }\n",
              "\n",
              "    .dataframe thead th {\n",
              "        text-align: right;\n",
              "    }\n",
              "</style>\n",
              "<table border=\"1\" class=\"dataframe\">\n",
              "  <thead>\n",
              "    <tr style=\"text-align: right;\">\n",
              "      <th></th>\n",
              "      <th>year</th>\n",
              "      <th>age</th>\n",
              "      <th>cohort</th>\n",
              "      <th>count</th>\n",
              "      <th>total_inc_p10</th>\n",
              "      <th>total_inc_p20</th>\n",
              "      <th>total_inc_p30</th>\n",
              "      <th>total_inc_p40</th>\n",
              "      <th>total_inc_p50</th>\n",
              "      <th>total_inc_p60</th>\n",
              "      <th>...</th>\n",
              "      <th>nw_inc_p20</th>\n",
              "      <th>nw_inc_p30</th>\n",
              "      <th>nw_inc_p40</th>\n",
              "      <th>nw_inc_p50</th>\n",
              "      <th>nw_inc_p60</th>\n",
              "      <th>nw_inc_p70</th>\n",
              "      <th>nw_inc_p80</th>\n",
              "      <th>nw_inc_p90</th>\n",
              "      <th>nw_inc_p99</th>\n",
              "      <th>nw_inc_mean</th>\n",
              "    </tr>\n",
              "  </thead>\n",
              "  <tbody>\n",
              "    <tr>\n",
              "      <th>0</th>\n",
              "      <td>1999.0</td>\n",
              "      <td>25</td>\n",
              "      <td>1974.0</td>\n",
              "      <td>25677</td>\n",
              "      <td>0</td>\n",
              "      <td>2600</td>\n",
              "      <td>16000</td>\n",
              "      <td>25100</td>\n",
              "      <td>36500</td>\n",
              "      <td>48200</td>\n",
              "      <td>...</td>\n",
              "      <td>-200</td>\n",
              "      <td>0</td>\n",
              "      <td>0</td>\n",
              "      <td>0</td>\n",
              "      <td>0</td>\n",
              "      <td>400</td>\n",
              "      <td>2000</td>\n",
              "      <td>8900</td>\n",
              "      <td>74500</td>\n",
              "      <td>5200</td>\n",
              "    </tr>\n",
              "    <tr>\n",
              "      <th>1</th>\n",
              "      <td>1999.0</td>\n",
              "      <td>26</td>\n",
              "      <td>1973.0</td>\n",
              "      <td>26323</td>\n",
              "      <td>0</td>\n",
              "      <td>6500</td>\n",
              "      <td>20600</td>\n",
              "      <td>30200</td>\n",
              "      <td>43400</td>\n",
              "      <td>55000</td>\n",
              "      <td>...</td>\n",
              "      <td>-300</td>\n",
              "      <td>0</td>\n",
              "      <td>0</td>\n",
              "      <td>0</td>\n",
              "      <td>100</td>\n",
              "      <td>800</td>\n",
              "      <td>2800</td>\n",
              "      <td>11500</td>\n",
              "      <td>97600</td>\n",
              "      <td>10900</td>\n",
              "    </tr>\n",
              "    <tr>\n",
              "      <th>2</th>\n",
              "      <td>1999.0</td>\n",
              "      <td>27</td>\n",
              "      <td>1972.0</td>\n",
              "      <td>28221</td>\n",
              "      <td>0</td>\n",
              "      <td>9800</td>\n",
              "      <td>23600</td>\n",
              "      <td>37000</td>\n",
              "      <td>49900</td>\n",
              "      <td>60500</td>\n",
              "      <td>...</td>\n",
              "      <td>-300</td>\n",
              "      <td>0</td>\n",
              "      <td>0</td>\n",
              "      <td>0</td>\n",
              "      <td>200</td>\n",
              "      <td>1100</td>\n",
              "      <td>3800</td>\n",
              "      <td>15000</td>\n",
              "      <td>118500</td>\n",
              "      <td>11500</td>\n",
              "    </tr>\n",
              "    <tr>\n",
              "      <th>3</th>\n",
              "      <td>1999.0</td>\n",
              "      <td>28</td>\n",
              "      <td>1971.0</td>\n",
              "      <td>30511</td>\n",
              "      <td>0</td>\n",
              "      <td>15200</td>\n",
              "      <td>29300</td>\n",
              "      <td>44200</td>\n",
              "      <td>56000</td>\n",
              "      <td>66900</td>\n",
              "      <td>...</td>\n",
              "      <td>-300</td>\n",
              "      <td>0</td>\n",
              "      <td>0</td>\n",
              "      <td>100</td>\n",
              "      <td>500</td>\n",
              "      <td>1700</td>\n",
              "      <td>5200</td>\n",
              "      <td>18100</td>\n",
              "      <td>163900</td>\n",
              "      <td>18900</td>\n",
              "    </tr>\n",
              "    <tr>\n",
              "      <th>4</th>\n",
              "      <td>1999.0</td>\n",
              "      <td>29</td>\n",
              "      <td>1970.0</td>\n",
              "      <td>32907</td>\n",
              "      <td>0</td>\n",
              "      <td>19200</td>\n",
              "      <td>34900</td>\n",
              "      <td>49500</td>\n",
              "      <td>61500</td>\n",
              "      <td>72600</td>\n",
              "      <td>...</td>\n",
              "      <td>-200</td>\n",
              "      <td>0</td>\n",
              "      <td>0</td>\n",
              "      <td>200</td>\n",
              "      <td>800</td>\n",
              "      <td>2300</td>\n",
              "      <td>6600</td>\n",
              "      <td>22100</td>\n",
              "      <td>198900</td>\n",
              "      <td>19200</td>\n",
              "    </tr>\n",
              "    <tr>\n",
              "      <th>...</th>\n",
              "      <td>...</td>\n",
              "      <td>...</td>\n",
              "      <td>...</td>\n",
              "      <td>...</td>\n",
              "      <td>...</td>\n",
              "      <td>...</td>\n",
              "      <td>...</td>\n",
              "      <td>...</td>\n",
              "      <td>...</td>\n",
              "      <td>...</td>\n",
              "      <td>...</td>\n",
              "      <td>...</td>\n",
              "      <td>...</td>\n",
              "      <td>...</td>\n",
              "      <td>...</td>\n",
              "      <td>...</td>\n",
              "      <td>...</td>\n",
              "      <td>...</td>\n",
              "      <td>...</td>\n",
              "      <td>...</td>\n",
              "      <td>...</td>\n",
              "    </tr>\n",
              "    <tr>\n",
              "      <th>679</th>\n",
              "      <td>NaN</td>\n",
              "      <td>66</td>\n",
              "      <td>NaN</td>\n",
              "      <td>129582</td>\n",
              "      <td>8600</td>\n",
              "      <td>28700</td>\n",
              "      <td>49200</td>\n",
              "      <td>67800</td>\n",
              "      <td>88500</td>\n",
              "      <td>113200</td>\n",
              "      <td>...</td>\n",
              "      <td>0</td>\n",
              "      <td>2500</td>\n",
              "      <td>11900</td>\n",
              "      <td>24300</td>\n",
              "      <td>38800</td>\n",
              "      <td>57700</td>\n",
              "      <td>86600</td>\n",
              "      <td>160700</td>\n",
              "      <td>2001400</td>\n",
              "      <td>145600</td>\n",
              "    </tr>\n",
              "    <tr>\n",
              "      <th>680</th>\n",
              "      <td>NaN</td>\n",
              "      <td>67</td>\n",
              "      <td>NaN</td>\n",
              "      <td>115618</td>\n",
              "      <td>8400</td>\n",
              "      <td>28100</td>\n",
              "      <td>47900</td>\n",
              "      <td>65400</td>\n",
              "      <td>85500</td>\n",
              "      <td>110300</td>\n",
              "      <td>...</td>\n",
              "      <td>0</td>\n",
              "      <td>3100</td>\n",
              "      <td>13500</td>\n",
              "      <td>26300</td>\n",
              "      <td>40600</td>\n",
              "      <td>59500</td>\n",
              "      <td>88900</td>\n",
              "      <td>163400</td>\n",
              "      <td>2082600</td>\n",
              "      <td>150200</td>\n",
              "    </tr>\n",
              "    <tr>\n",
              "      <th>681</th>\n",
              "      <td>NaN</td>\n",
              "      <td>68</td>\n",
              "      <td>NaN</td>\n",
              "      <td>104704</td>\n",
              "      <td>7400</td>\n",
              "      <td>26700</td>\n",
              "      <td>46200</td>\n",
              "      <td>62800</td>\n",
              "      <td>82200</td>\n",
              "      <td>105700</td>\n",
              "      <td>...</td>\n",
              "      <td>0</td>\n",
              "      <td>3700</td>\n",
              "      <td>15000</td>\n",
              "      <td>27900</td>\n",
              "      <td>42500</td>\n",
              "      <td>61600</td>\n",
              "      <td>90700</td>\n",
              "      <td>167000</td>\n",
              "      <td>2109000</td>\n",
              "      <td>160100</td>\n",
              "    </tr>\n",
              "    <tr>\n",
              "      <th>682</th>\n",
              "      <td>NaN</td>\n",
              "      <td>69</td>\n",
              "      <td>NaN</td>\n",
              "      <td>94317</td>\n",
              "      <td>6000</td>\n",
              "      <td>25300</td>\n",
              "      <td>44800</td>\n",
              "      <td>60500</td>\n",
              "      <td>78800</td>\n",
              "      <td>101900</td>\n",
              "      <td>...</td>\n",
              "      <td>0</td>\n",
              "      <td>4500</td>\n",
              "      <td>16500</td>\n",
              "      <td>29500</td>\n",
              "      <td>44100</td>\n",
              "      <td>63400</td>\n",
              "      <td>93700</td>\n",
              "      <td>170800</td>\n",
              "      <td>2042800</td>\n",
              "      <td>149500</td>\n",
              "    </tr>\n",
              "    <tr>\n",
              "      <th>683</th>\n",
              "      <td>NaN</td>\n",
              "      <td>70</td>\n",
              "      <td>NaN</td>\n",
              "      <td>83123</td>\n",
              "      <td>4800</td>\n",
              "      <td>24900</td>\n",
              "      <td>44400</td>\n",
              "      <td>60600</td>\n",
              "      <td>79400</td>\n",
              "      <td>102900</td>\n",
              "      <td>...</td>\n",
              "      <td>0</td>\n",
              "      <td>6600</td>\n",
              "      <td>19900</td>\n",
              "      <td>33200</td>\n",
              "      <td>48900</td>\n",
              "      <td>69700</td>\n",
              "      <td>101800</td>\n",
              "      <td>183100</td>\n",
              "      <td>1996500</td>\n",
              "      <td>156700</td>\n",
              "    </tr>\n",
              "  </tbody>\n",
              "</table>\n",
              "<p>684 rows × 37 columns</p>\n",
              "</div>\n",
              "      <button class=\"colab-df-convert\" onclick=\"convertToInteractive('df-bd568d72-40e4-47ea-9159-a44fe755c154')\"\n",
              "              title=\"Convert this dataframe to an interactive table.\"\n",
              "              style=\"display:none;\">\n",
              "        \n",
              "  <svg xmlns=\"http://www.w3.org/2000/svg\" height=\"24px\"viewBox=\"0 0 24 24\"\n",
              "       width=\"24px\">\n",
              "    <path d=\"M0 0h24v24H0V0z\" fill=\"none\"/>\n",
              "    <path d=\"M18.56 5.44l.94 2.06.94-2.06 2.06-.94-2.06-.94-.94-2.06-.94 2.06-2.06.94zm-11 1L8.5 8.5l.94-2.06 2.06-.94-2.06-.94L8.5 2.5l-.94 2.06-2.06.94zm10 10l.94 2.06.94-2.06 2.06-.94-2.06-.94-.94-2.06-.94 2.06-2.06.94z\"/><path d=\"M17.41 7.96l-1.37-1.37c-.4-.4-.92-.59-1.43-.59-.52 0-1.04.2-1.43.59L10.3 9.45l-7.72 7.72c-.78.78-.78 2.05 0 2.83L4 21.41c.39.39.9.59 1.41.59.51 0 1.02-.2 1.41-.59l7.78-7.78 2.81-2.81c.8-.78.8-2.07 0-2.86zM5.41 20L4 18.59l7.72-7.72 1.47 1.35L5.41 20z\"/>\n",
              "  </svg>\n",
              "      </button>\n",
              "      \n",
              "  <style>\n",
              "    .colab-df-container {\n",
              "      display:flex;\n",
              "      flex-wrap:wrap;\n",
              "      gap: 12px;\n",
              "    }\n",
              "\n",
              "    .colab-df-convert {\n",
              "      background-color: #E8F0FE;\n",
              "      border: none;\n",
              "      border-radius: 50%;\n",
              "      cursor: pointer;\n",
              "      display: none;\n",
              "      fill: #1967D2;\n",
              "      height: 32px;\n",
              "      padding: 0 0 0 0;\n",
              "      width: 32px;\n",
              "    }\n",
              "\n",
              "    .colab-df-convert:hover {\n",
              "      background-color: #E2EBFA;\n",
              "      box-shadow: 0px 1px 2px rgba(60, 64, 67, 0.3), 0px 1px 3px 1px rgba(60, 64, 67, 0.15);\n",
              "      fill: #174EA6;\n",
              "    }\n",
              "\n",
              "    [theme=dark] .colab-df-convert {\n",
              "      background-color: #3B4455;\n",
              "      fill: #D2E3FC;\n",
              "    }\n",
              "\n",
              "    [theme=dark] .colab-df-convert:hover {\n",
              "      background-color: #434B5C;\n",
              "      box-shadow: 0px 1px 3px 1px rgba(0, 0, 0, 0.15);\n",
              "      filter: drop-shadow(0px 1px 2px rgba(0, 0, 0, 0.3));\n",
              "      fill: #FFFFFF;\n",
              "    }\n",
              "  </style>\n",
              "\n",
              "      <script>\n",
              "        const buttonEl =\n",
              "          document.querySelector('#df-bd568d72-40e4-47ea-9159-a44fe755c154 button.colab-df-convert');\n",
              "        buttonEl.style.display =\n",
              "          google.colab.kernel.accessAllowed ? 'block' : 'none';\n",
              "\n",
              "        async function convertToInteractive(key) {\n",
              "          const element = document.querySelector('#df-bd568d72-40e4-47ea-9159-a44fe755c154');\n",
              "          const dataTable =\n",
              "            await google.colab.kernel.invokeFunction('convertToInteractive',\n",
              "                                                     [key], {});\n",
              "          if (!dataTable) return;\n",
              "\n",
              "          const docLinkHtml = 'Like what you see? Visit the ' +\n",
              "            '<a target=\"_blank\" href=https://colab.research.google.com/notebooks/data_table.ipynb>data table notebook</a>'\n",
              "            + ' to learn more about interactive tables.';\n",
              "          element.innerHTML = '';\n",
              "          dataTable['output_type'] = 'display_data';\n",
              "          await google.colab.output.renderOutput(dataTable, element);\n",
              "          const docLink = document.createElement('div');\n",
              "          docLink.innerHTML = docLinkHtml;\n",
              "          element.appendChild(docLink);\n",
              "        }\n",
              "      </script>\n",
              "    </div>\n",
              "  </div>\n",
              "  "
            ],
            "text/plain": [
              "       year  age  cohort   count  total_inc_p10  total_inc_p20  total_inc_p30  \\\n",
              "0    1999.0   25  1974.0   25677              0           2600          16000   \n",
              "1    1999.0   26  1973.0   26323              0           6500          20600   \n",
              "2    1999.0   27  1972.0   28221              0           9800          23600   \n",
              "3    1999.0   28  1971.0   30511              0          15200          29300   \n",
              "4    1999.0   29  1970.0   32907              0          19200          34900   \n",
              "..      ...  ...     ...     ...            ...            ...            ...   \n",
              "679     NaN   66     NaN  129582           8600          28700          49200   \n",
              "680     NaN   67     NaN  115618           8400          28100          47900   \n",
              "681     NaN   68     NaN  104704           7400          26700          46200   \n",
              "682     NaN   69     NaN   94317           6000          25300          44800   \n",
              "683     NaN   70     NaN   83123           4800          24900          44400   \n",
              "\n",
              "     total_inc_p40  total_inc_p50  total_inc_p60  ...  nw_inc_p20  nw_inc_p30  \\\n",
              "0            25100          36500          48200  ...        -200           0   \n",
              "1            30200          43400          55000  ...        -300           0   \n",
              "2            37000          49900          60500  ...        -300           0   \n",
              "3            44200          56000          66900  ...        -300           0   \n",
              "4            49500          61500          72600  ...        -200           0   \n",
              "..             ...            ...            ...  ...         ...         ...   \n",
              "679          67800          88500         113200  ...           0        2500   \n",
              "680          65400          85500         110300  ...           0        3100   \n",
              "681          62800          82200         105700  ...           0        3700   \n",
              "682          60500          78800         101900  ...           0        4500   \n",
              "683          60600          79400         102900  ...           0        6600   \n",
              "\n",
              "     nw_inc_p40  nw_inc_p50  nw_inc_p60  nw_inc_p70  nw_inc_p80  nw_inc_p90  \\\n",
              "0             0           0           0         400        2000        8900   \n",
              "1             0           0         100         800        2800       11500   \n",
              "2             0           0         200        1100        3800       15000   \n",
              "3             0         100         500        1700        5200       18100   \n",
              "4             0         200         800        2300        6600       22100   \n",
              "..          ...         ...         ...         ...         ...         ...   \n",
              "679       11900       24300       38800       57700       86600      160700   \n",
              "680       13500       26300       40600       59500       88900      163400   \n",
              "681       15000       27900       42500       61600       90700      167000   \n",
              "682       16500       29500       44100       63400       93700      170800   \n",
              "683       19900       33200       48900       69700      101800      183100   \n",
              "\n",
              "     nw_inc_p99  nw_inc_mean  \n",
              "0         74500         5200  \n",
              "1         97600        10900  \n",
              "2        118500        11500  \n",
              "3        163900        18900  \n",
              "4        198900        19200  \n",
              "..          ...          ...  \n",
              "679     2001400       145600  \n",
              "680     2082600       150200  \n",
              "681     2109000       160100  \n",
              "682     2042800       149500  \n",
              "683     1996500       156700  \n",
              "\n",
              "[684 rows x 37 columns]"
            ]
          },
          "execution_count": 64,
          "metadata": {},
          "output_type": "execute_result"
        }
      ],
      "source": [
        "#research question 1:\n",
        "generation = pd.read_csv('table_4a.csv')\n",
        "generation"
      ]
    },
    {
      "cell_type": "markdown",
      "metadata": {
        "id": "BiVV5UH-11ft"
      },
      "source": [
        "Question 1/ Table 4a:\n",
        "\n",
        "For both our insight questions, our data comes from Chetty’s paper Who Becomes an Inventor in America? The Importance of Exposure to Innovation”, and question 1 uses table 4a, Income Distributions of Inventors by Year and Age (https://opportunityinsights.org/wp-content/uploads/2018/04/Inventors-Codebook-Table-4.pdf). This table tells us the year, age, cohort (which is their year of birth), count(number of inventors in that year) and age group, and different percentiles of their income as W-2, total, and non-wage. As for the scope and temporality, the data covers ages of inventors 25-70 over the years 1999-2012. The data is missing values of year and cohort because the study specifies 2012, age 70, as the boundary of the scope of the data. We assume the data missing those values is from 2013, so we choose to drop those values. Our target variables for this question are total_inc_mean (explained variable), and cohort (dummy variables: generation) and count (explanatory variables).\n",
        "\n",
        "Question 2/Table3:\n",
        "\n",
        "The structure of the dataset that we used for the second question is a table when the rows are the records, and columns are attributes. The column attributes are quantitative variables. Granularity is a college. The data includes children who were born in 1980-1984 cohorts who attend college between the ages of 19-22. The students that are restricted to U.S. citizens as of 2013 and non-immigrants. Since most people attend colleges around 19-22, we agree that the dataset has covered our area of interest. There is no missing data in Table 3. For the first model, we use “count”, “inventor_pq5”, “total_patents”, “total_citations” as our explanatory variables, “count”, the number of inventors as our predicted value. In the second model, we use “count”, “cohort” as explanatory variables, the share of inventors in each college as our predicted variable. \n"
      ]
    },
    {
      "cell_type": "markdown",
      "metadata": {
        "id": "0E4bGyOnqyha"
      },
      "source": [
        "## Data Cleaning (5 points)\n",
        "In this section you will walk through the data cleaning and merging process.  Explain how you make decisions to clean and merge the data.  Explain how you convince yourself that the data don't contain problems that will limit your ability to produce a meaningful analysis from them.   "
      ]
    },
    {
      "cell_type": "markdown",
      "metadata": {
        "id": "RjzUzYBU2Hsw"
      },
      "source": [
        "Question 1\n",
        "After importing both Table 3 and Table 4a from the original paper, we cleaned up the data but checked through for any missing NaN values. Within the provided Table 4a that we would use for our first question, we had approximately 50 data points that contained NaN values that we decided to drop. Even though this could have caused a little bias in the dataset that we will now be using, determining the necessary values for those data points would not have been accurate and could have skewed final results. Given how we are comparing the total mean income between each year, age, and generation, we had checked the data for any outliers that would have vastly made a difference in our results. We discovered one outlier data point with a negative total mean income. And while the negative total mean income could have been due to a vast debt accumulated from one person in that data point that skewed the data, we decided to exclude it given how vastly different the outlier was and how much it could potentially skew final results. \n",
        "\n",
        "Two major additional cleaning and merging of the data for Table 4a would be creating a new column in the table that would categorize the data points by the generation people would fall under depending on their cohort. We had four categories (Gen Z, Millennial, Gen X, and Baby Boomerwith about only three of them actually appearing in the refined data set. The second major data cleaning applied to this data set before we began further manipulating it for data analysis was to determine the most reasonable income column to use. Within Table 4a, the total income of a certain age group from a certain year could be broken down into the different percentiles of income, the mean income of the whole age group, and then additional W2 income percentiles and statistics. Given how all income presented in the table was standardized to 2012 US dollars, we decided to choose total mean income as we are observing the population of inventors as a whole over the years and in comparison to each generation. \n",
        "\n",
        "Question 2\n",
        "For the provided Table 3 used in our second question, we checked for any NaN values in the dataset and discovered there were none. The data set consisted of the counts of students within each school and then the ratio of inventors in that school with parents in a certain quintile income bracket. Since our second question is to explore the number of patents given student inventors’ parents income, we manipulated the data to multiply the count with the ratio of student inventors with parents in the top quintile income bracket to obtain a new column in the table encompassing the number of student inventors in the given school with parents in the top quintile income bracket. Additionally, we classified the colleges under community colleges and non community colleges to further explore if community colleges or non community colleges have more inventors. We also created total patent ratios and total cites ratios based on the total number of students in each college (count) and compared it to the total patents and cites from the same college.\n"
      ]
    },
    {
      "cell_type": "markdown",
      "metadata": {
        "id": "wBeGYDj0-DiQ"
      },
      "source": [
        "Research question 1:"
      ]
    },
    {
      "cell_type": "code",
      "execution_count": null,
      "metadata": {
        "colab": {
          "base_uri": "https://localhost:8080/"
        },
        "id": "LXAoOx0R9I5T",
        "outputId": "6c5dd63f-4097-4850-d4c8-f85f2d0e1814"
      },
      "outputs": [
        {
          "data": {
            "text/plain": [
              "(638, 37)"
            ]
          },
          "execution_count": 65,
          "metadata": {},
          "output_type": "execute_result"
        }
      ],
      "source": [
        "generation.isna().any()\n",
        "generation = generation.dropna()\n",
        "generation.shape"
      ]
    },
    {
      "cell_type": "code",
      "execution_count": null,
      "metadata": {
        "colab": {
          "base_uri": "https://localhost:8080/",
          "height": 206
        },
        "id": "UwBeyLGd9k9m",
        "outputId": "4dd2ff4a-6e3b-4563-a410-bb3f171e07ed"
      },
      "outputs": [
        {
          "data": {
            "text/html": [
              "\n",
              "  <div id=\"df-9d29c803-6bba-4ccb-8daa-6313a4929183\">\n",
              "    <div class=\"colab-df-container\">\n",
              "      <div>\n",
              "<style scoped>\n",
              "    .dataframe tbody tr th:only-of-type {\n",
              "        vertical-align: middle;\n",
              "    }\n",
              "\n",
              "    .dataframe tbody tr th {\n",
              "        vertical-align: top;\n",
              "    }\n",
              "\n",
              "    .dataframe thead th {\n",
              "        text-align: right;\n",
              "    }\n",
              "</style>\n",
              "<table border=\"1\" class=\"dataframe\">\n",
              "  <thead>\n",
              "    <tr style=\"text-align: right;\">\n",
              "      <th></th>\n",
              "      <th>year</th>\n",
              "      <th>age</th>\n",
              "      <th>cohort</th>\n",
              "      <th>count</th>\n",
              "      <th>total_inc_mean</th>\n",
              "      <th>total_inc_p90</th>\n",
              "    </tr>\n",
              "  </thead>\n",
              "  <tbody>\n",
              "    <tr>\n",
              "      <th>633</th>\n",
              "      <td>2012.0</td>\n",
              "      <td>66</td>\n",
              "      <td>1946.0</td>\n",
              "      <td>17205</td>\n",
              "      <td>261600</td>\n",
              "      <td>304900</td>\n",
              "    </tr>\n",
              "    <tr>\n",
              "      <th>634</th>\n",
              "      <td>2012.0</td>\n",
              "      <td>67</td>\n",
              "      <td>1945.0</td>\n",
              "      <td>13959</td>\n",
              "      <td>219400</td>\n",
              "      <td>297700</td>\n",
              "    </tr>\n",
              "    <tr>\n",
              "      <th>635</th>\n",
              "      <td>2012.0</td>\n",
              "      <td>68</td>\n",
              "      <td>1944.0</td>\n",
              "      <td>13127</td>\n",
              "      <td>334700</td>\n",
              "      <td>302800</td>\n",
              "    </tr>\n",
              "    <tr>\n",
              "      <th>636</th>\n",
              "      <td>2012.0</td>\n",
              "      <td>69</td>\n",
              "      <td>1943.0</td>\n",
              "      <td>13592</td>\n",
              "      <td>197800</td>\n",
              "      <td>302500</td>\n",
              "    </tr>\n",
              "    <tr>\n",
              "      <th>637</th>\n",
              "      <td>2012.0</td>\n",
              "      <td>70</td>\n",
              "      <td>1942.0</td>\n",
              "      <td>12562</td>\n",
              "      <td>231300</td>\n",
              "      <td>305500</td>\n",
              "    </tr>\n",
              "  </tbody>\n",
              "</table>\n",
              "</div>\n",
              "      <button class=\"colab-df-convert\" onclick=\"convertToInteractive('df-9d29c803-6bba-4ccb-8daa-6313a4929183')\"\n",
              "              title=\"Convert this dataframe to an interactive table.\"\n",
              "              style=\"display:none;\">\n",
              "        \n",
              "  <svg xmlns=\"http://www.w3.org/2000/svg\" height=\"24px\"viewBox=\"0 0 24 24\"\n",
              "       width=\"24px\">\n",
              "    <path d=\"M0 0h24v24H0V0z\" fill=\"none\"/>\n",
              "    <path d=\"M18.56 5.44l.94 2.06.94-2.06 2.06-.94-2.06-.94-.94-2.06-.94 2.06-2.06.94zm-11 1L8.5 8.5l.94-2.06 2.06-.94-2.06-.94L8.5 2.5l-.94 2.06-2.06.94zm10 10l.94 2.06.94-2.06 2.06-.94-2.06-.94-.94-2.06-.94 2.06-2.06.94z\"/><path d=\"M17.41 7.96l-1.37-1.37c-.4-.4-.92-.59-1.43-.59-.52 0-1.04.2-1.43.59L10.3 9.45l-7.72 7.72c-.78.78-.78 2.05 0 2.83L4 21.41c.39.39.9.59 1.41.59.51 0 1.02-.2 1.41-.59l7.78-7.78 2.81-2.81c.8-.78.8-2.07 0-2.86zM5.41 20L4 18.59l7.72-7.72 1.47 1.35L5.41 20z\"/>\n",
              "  </svg>\n",
              "      </button>\n",
              "      \n",
              "  <style>\n",
              "    .colab-df-container {\n",
              "      display:flex;\n",
              "      flex-wrap:wrap;\n",
              "      gap: 12px;\n",
              "    }\n",
              "\n",
              "    .colab-df-convert {\n",
              "      background-color: #E8F0FE;\n",
              "      border: none;\n",
              "      border-radius: 50%;\n",
              "      cursor: pointer;\n",
              "      display: none;\n",
              "      fill: #1967D2;\n",
              "      height: 32px;\n",
              "      padding: 0 0 0 0;\n",
              "      width: 32px;\n",
              "    }\n",
              "\n",
              "    .colab-df-convert:hover {\n",
              "      background-color: #E2EBFA;\n",
              "      box-shadow: 0px 1px 2px rgba(60, 64, 67, 0.3), 0px 1px 3px 1px rgba(60, 64, 67, 0.15);\n",
              "      fill: #174EA6;\n",
              "    }\n",
              "\n",
              "    [theme=dark] .colab-df-convert {\n",
              "      background-color: #3B4455;\n",
              "      fill: #D2E3FC;\n",
              "    }\n",
              "\n",
              "    [theme=dark] .colab-df-convert:hover {\n",
              "      background-color: #434B5C;\n",
              "      box-shadow: 0px 1px 3px 1px rgba(0, 0, 0, 0.15);\n",
              "      filter: drop-shadow(0px 1px 2px rgba(0, 0, 0, 0.3));\n",
              "      fill: #FFFFFF;\n",
              "    }\n",
              "  </style>\n",
              "\n",
              "      <script>\n",
              "        const buttonEl =\n",
              "          document.querySelector('#df-9d29c803-6bba-4ccb-8daa-6313a4929183 button.colab-df-convert');\n",
              "        buttonEl.style.display =\n",
              "          google.colab.kernel.accessAllowed ? 'block' : 'none';\n",
              "\n",
              "        async function convertToInteractive(key) {\n",
              "          const element = document.querySelector('#df-9d29c803-6bba-4ccb-8daa-6313a4929183');\n",
              "          const dataTable =\n",
              "            await google.colab.kernel.invokeFunction('convertToInteractive',\n",
              "                                                     [key], {});\n",
              "          if (!dataTable) return;\n",
              "\n",
              "          const docLinkHtml = 'Like what you see? Visit the ' +\n",
              "            '<a target=\"_blank\" href=https://colab.research.google.com/notebooks/data_table.ipynb>data table notebook</a>'\n",
              "            + ' to learn more about interactive tables.';\n",
              "          element.innerHTML = '';\n",
              "          dataTable['output_type'] = 'display_data';\n",
              "          await google.colab.output.renderOutput(dataTable, element);\n",
              "          const docLink = document.createElement('div');\n",
              "          docLink.innerHTML = docLinkHtml;\n",
              "          element.appendChild(docLink);\n",
              "        }\n",
              "      </script>\n",
              "    </div>\n",
              "  </div>\n",
              "  "
            ],
            "text/plain": [
              "       year  age  cohort  count  total_inc_mean  total_inc_p90\n",
              "633  2012.0   66  1946.0  17205          261600         304900\n",
              "634  2012.0   67  1945.0  13959          219400         297700\n",
              "635  2012.0   68  1944.0  13127          334700         302800\n",
              "636  2012.0   69  1943.0  13592          197800         302500\n",
              "637  2012.0   70  1942.0  12562          231300         305500"
            ]
          },
          "execution_count": 66,
          "metadata": {},
          "output_type": "execute_result"
        }
      ],
      "source": [
        "generation_relevant = generation[['year','age','cohort','count','total_inc_mean',\"total_inc_p90\"]]\n",
        "generation_relevant.tail()"
      ]
    },
    {
      "cell_type": "code",
      "execution_count": null,
      "metadata": {
        "id": "fQ2vrutf_iHD"
      },
      "outputs": [],
      "source": [
        "#create bins of different generation ranges\n",
        "gen_z_range = range(1995,2011)\n",
        "millennial_range = range(1980,1996)\n",
        "gen_x_range = range(1965,1977)\n",
        "baby_boomber_range = range(1946,1965)"
      ]
    },
    {
      "cell_type": "code",
      "execution_count": null,
      "metadata": {
        "id": "WfK5VF7RAUg_"
      },
      "outputs": [],
      "source": [
        "def standardization(df, column):\n",
        "  mean = np.mean(df[column])\n",
        "  sd = np.std(df[column])\n",
        "  df[column] = (df[column] - mean)/sd\n",
        "  return df[column]"
      ]
    },
    {
      "cell_type": "code",
      "execution_count": null,
      "metadata": {
        "colab": {
          "base_uri": "https://localhost:8080/"
        },
        "id": "KYrDVe9d_iid",
        "outputId": "35dac9e0-5f1d-4dcd-8a05-cbce3f9c696c"
      },
      "outputs": [
        {
          "name": "stderr",
          "output_type": "stream",
          "text": [
            "<ipython-input-69-059fb7fcb4fc>:12: SettingWithCopyWarning: \n",
            "A value is trying to be set on a copy of a slice from a DataFrame.\n",
            "Try using .loc[row_indexer,col_indexer] = value instead\n",
            "\n",
            "See the caveats in the documentation: https://pandas.pydata.org/pandas-docs/stable/user_guide/indexing.html#returning-a-view-versus-a-copy\n",
            "  generation_relevant['generation'] = generation_relevant['cohort'].apply(get_generation)\n"
          ]
        }
      ],
      "source": [
        "#label the ages to their respective generation and create a new column for them\n",
        "def get_generation(cohort):\n",
        "    if cohort in gen_z_range:\n",
        "        return 'Gen Z'\n",
        "    elif cohort in millennial_range:\n",
        "        return 'Millennial'\n",
        "    elif cohort in gen_x_range:\n",
        "        return 'Gen X'\n",
        "    else:\n",
        "        return 'Baby Boomer'\n",
        "    \n",
        "generation_relevant['generation'] = generation_relevant['cohort'].apply(get_generation)\n",
        "generation_relevant = generation_relevant[generation_relevant['total_inc_mean'] >= 0]\n",
        "#removing the outlier with a negative total income mean"
      ]
    },
    {
      "cell_type": "code",
      "execution_count": null,
      "metadata": {
        "colab": {
          "base_uri": "https://localhost:8080/",
          "height": 592
        },
        "id": "eJx8e8-f_qKM",
        "outputId": "62b6cd19-de72-4d64-f15c-2a2e738d5633"
      },
      "outputs": [
        {
          "data": {
            "text/html": [
              "\n",
              "  <div id=\"df-f7c03746-17ed-462d-8c66-1174e3d66565\">\n",
              "    <div class=\"colab-df-container\">\n",
              "      <div>\n",
              "<style scoped>\n",
              "    .dataframe tbody tr th:only-of-type {\n",
              "        vertical-align: middle;\n",
              "    }\n",
              "\n",
              "    .dataframe tbody tr th {\n",
              "        vertical-align: top;\n",
              "    }\n",
              "\n",
              "    .dataframe thead th {\n",
              "        text-align: right;\n",
              "    }\n",
              "</style>\n",
              "<table border=\"1\" class=\"dataframe\">\n",
              "  <thead>\n",
              "    <tr style=\"text-align: right;\">\n",
              "      <th></th>\n",
              "      <th>year</th>\n",
              "      <th>age</th>\n",
              "      <th>cohort</th>\n",
              "      <th>count</th>\n",
              "      <th>total_inc_mean</th>\n",
              "      <th>total_inc_p90</th>\n",
              "      <th>generation</th>\n",
              "      <th>Baby Boomer</th>\n",
              "      <th>Gen X</th>\n",
              "      <th>Millennial</th>\n",
              "    </tr>\n",
              "  </thead>\n",
              "  <tbody>\n",
              "    <tr>\n",
              "      <th>0</th>\n",
              "      <td>1999.0</td>\n",
              "      <td>25</td>\n",
              "      <td>1974.0</td>\n",
              "      <td>25677</td>\n",
              "      <td>46100</td>\n",
              "      <td>86400</td>\n",
              "      <td>Gen X</td>\n",
              "      <td>0</td>\n",
              "      <td>1</td>\n",
              "      <td>0</td>\n",
              "    </tr>\n",
              "    <tr>\n",
              "      <th>1</th>\n",
              "      <td>1999.0</td>\n",
              "      <td>26</td>\n",
              "      <td>1973.0</td>\n",
              "      <td>26323</td>\n",
              "      <td>57200</td>\n",
              "      <td>96900</td>\n",
              "      <td>Gen X</td>\n",
              "      <td>0</td>\n",
              "      <td>1</td>\n",
              "      <td>0</td>\n",
              "    </tr>\n",
              "    <tr>\n",
              "      <th>2</th>\n",
              "      <td>1999.0</td>\n",
              "      <td>27</td>\n",
              "      <td>1972.0</td>\n",
              "      <td>28221</td>\n",
              "      <td>64800</td>\n",
              "      <td>108000</td>\n",
              "      <td>Gen X</td>\n",
              "      <td>0</td>\n",
              "      <td>1</td>\n",
              "      <td>0</td>\n",
              "    </tr>\n",
              "    <tr>\n",
              "      <th>3</th>\n",
              "      <td>1999.0</td>\n",
              "      <td>28</td>\n",
              "      <td>1971.0</td>\n",
              "      <td>30511</td>\n",
              "      <td>79600</td>\n",
              "      <td>120200</td>\n",
              "      <td>Gen X</td>\n",
              "      <td>0</td>\n",
              "      <td>1</td>\n",
              "      <td>0</td>\n",
              "    </tr>\n",
              "    <tr>\n",
              "      <th>4</th>\n",
              "      <td>1999.0</td>\n",
              "      <td>29</td>\n",
              "      <td>1970.0</td>\n",
              "      <td>32907</td>\n",
              "      <td>88600</td>\n",
              "      <td>132100</td>\n",
              "      <td>Gen X</td>\n",
              "      <td>0</td>\n",
              "      <td>1</td>\n",
              "      <td>0</td>\n",
              "    </tr>\n",
              "    <tr>\n",
              "      <th>...</th>\n",
              "      <td>...</td>\n",
              "      <td>...</td>\n",
              "      <td>...</td>\n",
              "      <td>...</td>\n",
              "      <td>...</td>\n",
              "      <td>...</td>\n",
              "      <td>...</td>\n",
              "      <td>...</td>\n",
              "      <td>...</td>\n",
              "      <td>...</td>\n",
              "    </tr>\n",
              "    <tr>\n",
              "      <th>633</th>\n",
              "      <td>2012.0</td>\n",
              "      <td>66</td>\n",
              "      <td>1946.0</td>\n",
              "      <td>17205</td>\n",
              "      <td>261600</td>\n",
              "      <td>304900</td>\n",
              "      <td>Baby Boomer</td>\n",
              "      <td>1</td>\n",
              "      <td>0</td>\n",
              "      <td>0</td>\n",
              "    </tr>\n",
              "    <tr>\n",
              "      <th>634</th>\n",
              "      <td>2012.0</td>\n",
              "      <td>67</td>\n",
              "      <td>1945.0</td>\n",
              "      <td>13959</td>\n",
              "      <td>219400</td>\n",
              "      <td>297700</td>\n",
              "      <td>Baby Boomer</td>\n",
              "      <td>1</td>\n",
              "      <td>0</td>\n",
              "      <td>0</td>\n",
              "    </tr>\n",
              "    <tr>\n",
              "      <th>635</th>\n",
              "      <td>2012.0</td>\n",
              "      <td>68</td>\n",
              "      <td>1944.0</td>\n",
              "      <td>13127</td>\n",
              "      <td>334700</td>\n",
              "      <td>302800</td>\n",
              "      <td>Baby Boomer</td>\n",
              "      <td>1</td>\n",
              "      <td>0</td>\n",
              "      <td>0</td>\n",
              "    </tr>\n",
              "    <tr>\n",
              "      <th>636</th>\n",
              "      <td>2012.0</td>\n",
              "      <td>69</td>\n",
              "      <td>1943.0</td>\n",
              "      <td>13592</td>\n",
              "      <td>197800</td>\n",
              "      <td>302500</td>\n",
              "      <td>Baby Boomer</td>\n",
              "      <td>1</td>\n",
              "      <td>0</td>\n",
              "      <td>0</td>\n",
              "    </tr>\n",
              "    <tr>\n",
              "      <th>637</th>\n",
              "      <td>2012.0</td>\n",
              "      <td>70</td>\n",
              "      <td>1942.0</td>\n",
              "      <td>12562</td>\n",
              "      <td>231300</td>\n",
              "      <td>305500</td>\n",
              "      <td>Baby Boomer</td>\n",
              "      <td>1</td>\n",
              "      <td>0</td>\n",
              "      <td>0</td>\n",
              "    </tr>\n",
              "  </tbody>\n",
              "</table>\n",
              "<p>637 rows × 10 columns</p>\n",
              "</div>\n",
              "      <button class=\"colab-df-convert\" onclick=\"convertToInteractive('df-f7c03746-17ed-462d-8c66-1174e3d66565')\"\n",
              "              title=\"Convert this dataframe to an interactive table.\"\n",
              "              style=\"display:none;\">\n",
              "        \n",
              "  <svg xmlns=\"http://www.w3.org/2000/svg\" height=\"24px\"viewBox=\"0 0 24 24\"\n",
              "       width=\"24px\">\n",
              "    <path d=\"M0 0h24v24H0V0z\" fill=\"none\"/>\n",
              "    <path d=\"M18.56 5.44l.94 2.06.94-2.06 2.06-.94-2.06-.94-.94-2.06-.94 2.06-2.06.94zm-11 1L8.5 8.5l.94-2.06 2.06-.94-2.06-.94L8.5 2.5l-.94 2.06-2.06.94zm10 10l.94 2.06.94-2.06 2.06-.94-2.06-.94-.94-2.06-.94 2.06-2.06.94z\"/><path d=\"M17.41 7.96l-1.37-1.37c-.4-.4-.92-.59-1.43-.59-.52 0-1.04.2-1.43.59L10.3 9.45l-7.72 7.72c-.78.78-.78 2.05 0 2.83L4 21.41c.39.39.9.59 1.41.59.51 0 1.02-.2 1.41-.59l7.78-7.78 2.81-2.81c.8-.78.8-2.07 0-2.86zM5.41 20L4 18.59l7.72-7.72 1.47 1.35L5.41 20z\"/>\n",
              "  </svg>\n",
              "      </button>\n",
              "      \n",
              "  <style>\n",
              "    .colab-df-container {\n",
              "      display:flex;\n",
              "      flex-wrap:wrap;\n",
              "      gap: 12px;\n",
              "    }\n",
              "\n",
              "    .colab-df-convert {\n",
              "      background-color: #E8F0FE;\n",
              "      border: none;\n",
              "      border-radius: 50%;\n",
              "      cursor: pointer;\n",
              "      display: none;\n",
              "      fill: #1967D2;\n",
              "      height: 32px;\n",
              "      padding: 0 0 0 0;\n",
              "      width: 32px;\n",
              "    }\n",
              "\n",
              "    .colab-df-convert:hover {\n",
              "      background-color: #E2EBFA;\n",
              "      box-shadow: 0px 1px 2px rgba(60, 64, 67, 0.3), 0px 1px 3px 1px rgba(60, 64, 67, 0.15);\n",
              "      fill: #174EA6;\n",
              "    }\n",
              "\n",
              "    [theme=dark] .colab-df-convert {\n",
              "      background-color: #3B4455;\n",
              "      fill: #D2E3FC;\n",
              "    }\n",
              "\n",
              "    [theme=dark] .colab-df-convert:hover {\n",
              "      background-color: #434B5C;\n",
              "      box-shadow: 0px 1px 3px 1px rgba(0, 0, 0, 0.15);\n",
              "      filter: drop-shadow(0px 1px 2px rgba(0, 0, 0, 0.3));\n",
              "      fill: #FFFFFF;\n",
              "    }\n",
              "  </style>\n",
              "\n",
              "      <script>\n",
              "        const buttonEl =\n",
              "          document.querySelector('#df-f7c03746-17ed-462d-8c66-1174e3d66565 button.colab-df-convert');\n",
              "        buttonEl.style.display =\n",
              "          google.colab.kernel.accessAllowed ? 'block' : 'none';\n",
              "\n",
              "        async function convertToInteractive(key) {\n",
              "          const element = document.querySelector('#df-f7c03746-17ed-462d-8c66-1174e3d66565');\n",
              "          const dataTable =\n",
              "            await google.colab.kernel.invokeFunction('convertToInteractive',\n",
              "                                                     [key], {});\n",
              "          if (!dataTable) return;\n",
              "\n",
              "          const docLinkHtml = 'Like what you see? Visit the ' +\n",
              "            '<a target=\"_blank\" href=https://colab.research.google.com/notebooks/data_table.ipynb>data table notebook</a>'\n",
              "            + ' to learn more about interactive tables.';\n",
              "          element.innerHTML = '';\n",
              "          dataTable['output_type'] = 'display_data';\n",
              "          await google.colab.output.renderOutput(dataTable, element);\n",
              "          const docLink = document.createElement('div');\n",
              "          docLink.innerHTML = docLinkHtml;\n",
              "          element.appendChild(docLink);\n",
              "        }\n",
              "      </script>\n",
              "    </div>\n",
              "  </div>\n",
              "  "
            ],
            "text/plain": [
              "       year  age  cohort  count  total_inc_mean  total_inc_p90   generation  \\\n",
              "0    1999.0   25  1974.0  25677           46100          86400        Gen X   \n",
              "1    1999.0   26  1973.0  26323           57200          96900        Gen X   \n",
              "2    1999.0   27  1972.0  28221           64800         108000        Gen X   \n",
              "3    1999.0   28  1971.0  30511           79600         120200        Gen X   \n",
              "4    1999.0   29  1970.0  32907           88600         132100        Gen X   \n",
              "..      ...  ...     ...    ...             ...            ...          ...   \n",
              "633  2012.0   66  1946.0  17205          261600         304900  Baby Boomer   \n",
              "634  2012.0   67  1945.0  13959          219400         297700  Baby Boomer   \n",
              "635  2012.0   68  1944.0  13127          334700         302800  Baby Boomer   \n",
              "636  2012.0   69  1943.0  13592          197800         302500  Baby Boomer   \n",
              "637  2012.0   70  1942.0  12562          231300         305500  Baby Boomer   \n",
              "\n",
              "     Baby Boomer  Gen X  Millennial  \n",
              "0              0      1           0  \n",
              "1              0      1           0  \n",
              "2              0      1           0  \n",
              "3              0      1           0  \n",
              "4              0      1           0  \n",
              "..           ...    ...         ...  \n",
              "633            1      0           0  \n",
              "634            1      0           0  \n",
              "635            1      0           0  \n",
              "636            1      0           0  \n",
              "637            1      0           0  \n",
              "\n",
              "[637 rows x 10 columns]"
            ]
          },
          "execution_count": 70,
          "metadata": {},
          "output_type": "execute_result"
        }
      ],
      "source": [
        "gen_dummies = pd.get_dummies(generation_relevant['generation'])\n",
        "count_gen = pd.concat([generation_relevant,gen_dummies],axis = 1)\n",
        "#count_gen = count_gen.drop('Millennial', axis = 1)\n",
        "count_gen"
      ]
    },
    {
      "cell_type": "markdown",
      "metadata": {
        "id": "ZZ6pd-hs-I-P"
      },
      "source": [
        "\n",
        "\n",
        "```\n",
        "```\n",
        "\n",
        "##Inference Question #2: \n",
        "In this question we are using Raj Chetty's data in Table 3 and diving into the how different schools and school systems impact the total number patents.\n",
        "\n",
        "Going into this question we wanted to understand if there is a significant difference between the number of patents coming from the two schooling systems: Community College and Non COmmunity College. Further understanding what factors influence the total number of patetns that are produced by each schooling system. Are they the same or different factors? Why?"
      ]
    },
    {
      "cell_type": "code",
      "execution_count": null,
      "metadata": {
        "colab": {
          "base_uri": "https://localhost:8080/",
          "height": 652
        },
        "id": "4KxoIkx_-STL",
        "outputId": "df47e90f-8886-4214-fcee-c4213c7edc73"
      },
      "outputs": [
        {
          "data": {
            "text/html": [
              "\n",
              "  <div id=\"df-a3103391-2823-4d1f-93c2-b8a862aef134\">\n",
              "    <div class=\"colab-df-container\">\n",
              "      <div>\n",
              "<style scoped>\n",
              "    .dataframe tbody tr th:only-of-type {\n",
              "        vertical-align: middle;\n",
              "    }\n",
              "\n",
              "    .dataframe tbody tr th {\n",
              "        vertical-align: top;\n",
              "    }\n",
              "\n",
              "    .dataframe thead th {\n",
              "        text-align: right;\n",
              "    }\n",
              "</style>\n",
              "<table border=\"1\" class=\"dataframe\">\n",
              "  <thead>\n",
              "    <tr style=\"text-align: right;\">\n",
              "      <th></th>\n",
              "      <th>super_opeid</th>\n",
              "      <th>instnm</th>\n",
              "      <th>count</th>\n",
              "      <th>count_pq1</th>\n",
              "      <th>count_pq2</th>\n",
              "      <th>count_pq3</th>\n",
              "      <th>count_pq4</th>\n",
              "      <th>count_pq5</th>\n",
              "      <th>inventor</th>\n",
              "      <th>inventor_pq1</th>\n",
              "      <th>inventor_pq2</th>\n",
              "      <th>inventor_pq3</th>\n",
              "      <th>inventor_pq4</th>\n",
              "      <th>inventor_pq5</th>\n",
              "      <th>top5cit</th>\n",
              "      <th>total_patents</th>\n",
              "      <th>total_cites</th>\n",
              "    </tr>\n",
              "  </thead>\n",
              "  <tbody>\n",
              "    <tr>\n",
              "      <th>0</th>\n",
              "      <td>1</td>\n",
              "      <td>University Of Hawaii And Hawaii Community Coll...</td>\n",
              "      <td>27002</td>\n",
              "      <td>3205</td>\n",
              "      <td>4527</td>\n",
              "      <td>5628</td>\n",
              "      <td>6957</td>\n",
              "      <td>6685</td>\n",
              "      <td>0.001037</td>\n",
              "      <td>0.000312</td>\n",
              "      <td>0.000663</td>\n",
              "      <td>0.000533</td>\n",
              "      <td>0.000719</td>\n",
              "      <td>0.002393</td>\n",
              "      <td>0.000069</td>\n",
              "      <td>22</td>\n",
              "      <td>55</td>\n",
              "    </tr>\n",
              "    <tr>\n",
              "      <th>1</th>\n",
              "      <td>4</td>\n",
              "      <td>Coast Community College District</td>\n",
              "      <td>24340</td>\n",
              "      <td>4183</td>\n",
              "      <td>3829</td>\n",
              "      <td>4311</td>\n",
              "      <td>5066</td>\n",
              "      <td>6951</td>\n",
              "      <td>0.001643</td>\n",
              "      <td>0.001195</td>\n",
              "      <td>0.001045</td>\n",
              "      <td>0.001160</td>\n",
              "      <td>0.001382</td>\n",
              "      <td>0.002733</td>\n",
              "      <td>0.000120</td>\n",
              "      <td>76</td>\n",
              "      <td>333</td>\n",
              "    </tr>\n",
              "    <tr>\n",
              "      <th>2</th>\n",
              "      <td>13</td>\n",
              "      <td>Kern &amp; North Orange County Community College D...</td>\n",
              "      <td>18765</td>\n",
              "      <td>2521</td>\n",
              "      <td>3091</td>\n",
              "      <td>3564</td>\n",
              "      <td>4410</td>\n",
              "      <td>5179</td>\n",
              "      <td>0.001119</td>\n",
              "      <td>0.001190</td>\n",
              "      <td>0.000000</td>\n",
              "      <td>0.001403</td>\n",
              "      <td>0.000907</td>\n",
              "      <td>0.001738</td>\n",
              "      <td>0.000005</td>\n",
              "      <td>28</td>\n",
              "      <td>22</td>\n",
              "    </tr>\n",
              "    <tr>\n",
              "      <th>3</th>\n",
              "      <td>16</td>\n",
              "      <td>San Mateo County Community College District</td>\n",
              "      <td>10936</td>\n",
              "      <td>1253</td>\n",
              "      <td>1658</td>\n",
              "      <td>2187</td>\n",
              "      <td>2513</td>\n",
              "      <td>3325</td>\n",
              "      <td>0.001646</td>\n",
              "      <td>0.002394</td>\n",
              "      <td>0.003619</td>\n",
              "      <td>0.000457</td>\n",
              "      <td>0.001194</td>\n",
              "      <td>0.001504</td>\n",
              "      <td>0.000106</td>\n",
              "      <td>35</td>\n",
              "      <td>2474</td>\n",
              "    </tr>\n",
              "    <tr>\n",
              "      <th>4</th>\n",
              "      <td>19</td>\n",
              "      <td>Foothill-Deanza Community College District</td>\n",
              "      <td>16619</td>\n",
              "      <td>2245</td>\n",
              "      <td>2287</td>\n",
              "      <td>2798</td>\n",
              "      <td>3206</td>\n",
              "      <td>6083</td>\n",
              "      <td>0.003189</td>\n",
              "      <td>0.003118</td>\n",
              "      <td>0.000437</td>\n",
              "      <td>0.003574</td>\n",
              "      <td>0.001871</td>\n",
              "      <td>0.004767</td>\n",
              "      <td>0.000183</td>\n",
              "      <td>137</td>\n",
              "      <td>1497</td>\n",
              "    </tr>\n",
              "  </tbody>\n",
              "</table>\n",
              "</div>\n",
              "      <button class=\"colab-df-convert\" onclick=\"convertToInteractive('df-a3103391-2823-4d1f-93c2-b8a862aef134')\"\n",
              "              title=\"Convert this dataframe to an interactive table.\"\n",
              "              style=\"display:none;\">\n",
              "        \n",
              "  <svg xmlns=\"http://www.w3.org/2000/svg\" height=\"24px\"viewBox=\"0 0 24 24\"\n",
              "       width=\"24px\">\n",
              "    <path d=\"M0 0h24v24H0V0z\" fill=\"none\"/>\n",
              "    <path d=\"M18.56 5.44l.94 2.06.94-2.06 2.06-.94-2.06-.94-.94-2.06-.94 2.06-2.06.94zm-11 1L8.5 8.5l.94-2.06 2.06-.94-2.06-.94L8.5 2.5l-.94 2.06-2.06.94zm10 10l.94 2.06.94-2.06 2.06-.94-2.06-.94-.94-2.06-.94 2.06-2.06.94z\"/><path d=\"M17.41 7.96l-1.37-1.37c-.4-.4-.92-.59-1.43-.59-.52 0-1.04.2-1.43.59L10.3 9.45l-7.72 7.72c-.78.78-.78 2.05 0 2.83L4 21.41c.39.39.9.59 1.41.59.51 0 1.02-.2 1.41-.59l7.78-7.78 2.81-2.81c.8-.78.8-2.07 0-2.86zM5.41 20L4 18.59l7.72-7.72 1.47 1.35L5.41 20z\"/>\n",
              "  </svg>\n",
              "      </button>\n",
              "      \n",
              "  <style>\n",
              "    .colab-df-container {\n",
              "      display:flex;\n",
              "      flex-wrap:wrap;\n",
              "      gap: 12px;\n",
              "    }\n",
              "\n",
              "    .colab-df-convert {\n",
              "      background-color: #E8F0FE;\n",
              "      border: none;\n",
              "      border-radius: 50%;\n",
              "      cursor: pointer;\n",
              "      display: none;\n",
              "      fill: #1967D2;\n",
              "      height: 32px;\n",
              "      padding: 0 0 0 0;\n",
              "      width: 32px;\n",
              "    }\n",
              "\n",
              "    .colab-df-convert:hover {\n",
              "      background-color: #E2EBFA;\n",
              "      box-shadow: 0px 1px 2px rgba(60, 64, 67, 0.3), 0px 1px 3px 1px rgba(60, 64, 67, 0.15);\n",
              "      fill: #174EA6;\n",
              "    }\n",
              "\n",
              "    [theme=dark] .colab-df-convert {\n",
              "      background-color: #3B4455;\n",
              "      fill: #D2E3FC;\n",
              "    }\n",
              "\n",
              "    [theme=dark] .colab-df-convert:hover {\n",
              "      background-color: #434B5C;\n",
              "      box-shadow: 0px 1px 3px 1px rgba(0, 0, 0, 0.15);\n",
              "      filter: drop-shadow(0px 1px 2px rgba(0, 0, 0, 0.3));\n",
              "      fill: #FFFFFF;\n",
              "    }\n",
              "  </style>\n",
              "\n",
              "      <script>\n",
              "        const buttonEl =\n",
              "          document.querySelector('#df-a3103391-2823-4d1f-93c2-b8a862aef134 button.colab-df-convert');\n",
              "        buttonEl.style.display =\n",
              "          google.colab.kernel.accessAllowed ? 'block' : 'none';\n",
              "\n",
              "        async function convertToInteractive(key) {\n",
              "          const element = document.querySelector('#df-a3103391-2823-4d1f-93c2-b8a862aef134');\n",
              "          const dataTable =\n",
              "            await google.colab.kernel.invokeFunction('convertToInteractive',\n",
              "                                                     [key], {});\n",
              "          if (!dataTable) return;\n",
              "\n",
              "          const docLinkHtml = 'Like what you see? Visit the ' +\n",
              "            '<a target=\"_blank\" href=https://colab.research.google.com/notebooks/data_table.ipynb>data table notebook</a>'\n",
              "            + ' to learn more about interactive tables.';\n",
              "          element.innerHTML = '';\n",
              "          dataTable['output_type'] = 'display_data';\n",
              "          await google.colab.output.renderOutput(dataTable, element);\n",
              "          const docLink = document.createElement('div');\n",
              "          docLink.innerHTML = docLinkHtml;\n",
              "          element.appendChild(docLink);\n",
              "        }\n",
              "      </script>\n",
              "    </div>\n",
              "  </div>\n",
              "  "
            ],
            "text/plain": [
              "   super_opeid                                             instnm  count  \\\n",
              "0            1  University Of Hawaii And Hawaii Community Coll...  27002   \n",
              "1            4                   Coast Community College District  24340   \n",
              "2           13  Kern & North Orange County Community College D...  18765   \n",
              "3           16        San Mateo County Community College District  10936   \n",
              "4           19         Foothill-Deanza Community College District  16619   \n",
              "\n",
              "   count_pq1  count_pq2  count_pq3  count_pq4  count_pq5  inventor  \\\n",
              "0       3205       4527       5628       6957       6685  0.001037   \n",
              "1       4183       3829       4311       5066       6951  0.001643   \n",
              "2       2521       3091       3564       4410       5179  0.001119   \n",
              "3       1253       1658       2187       2513       3325  0.001646   \n",
              "4       2245       2287       2798       3206       6083  0.003189   \n",
              "\n",
              "   inventor_pq1  inventor_pq2  inventor_pq3  inventor_pq4  inventor_pq5  \\\n",
              "0      0.000312      0.000663      0.000533      0.000719      0.002393   \n",
              "1      0.001195      0.001045      0.001160      0.001382      0.002733   \n",
              "2      0.001190      0.000000      0.001403      0.000907      0.001738   \n",
              "3      0.002394      0.003619      0.000457      0.001194      0.001504   \n",
              "4      0.003118      0.000437      0.003574      0.001871      0.004767   \n",
              "\n",
              "    top5cit  total_patents  total_cites  \n",
              "0  0.000069             22           55  \n",
              "1  0.000120             76          333  \n",
              "2  0.000005             28           22  \n",
              "3  0.000106             35         2474  \n",
              "4  0.000183            137         1497  "
            ]
          },
          "execution_count": 71,
          "metadata": {},
          "output_type": "execute_result"
        }
      ],
      "source": [
        "college = pd.read_csv('table_3.csv')\n",
        "college.head(5)"
      ]
    },
    {
      "cell_type": "code",
      "execution_count": null,
      "metadata": {
        "colab": {
          "base_uri": "https://localhost:8080/"
        },
        "id": "NHJgpTds-dUH",
        "outputId": "66e95daf-82a5-4cfd-d4bb-bdbfb1eb1709"
      },
      "outputs": [
        {
          "data": {
            "text/plain": [
              "(423, 17)"
            ]
          },
          "execution_count": 72,
          "metadata": {},
          "output_type": "execute_result"
        }
      ],
      "source": [
        "college.shape"
      ]
    },
    {
      "cell_type": "code",
      "execution_count": null,
      "metadata": {
        "colab": {
          "base_uri": "https://localhost:8080/"
        },
        "id": "BAAV1pnt_LVq",
        "outputId": "dad1a68c-ad33-42f3-9959-c74018a395cc"
      },
      "outputs": [
        {
          "data": {
            "text/plain": [
              "super_opeid      False\n",
              "instnm           False\n",
              "count            False\n",
              "count_pq1        False\n",
              "count_pq2        False\n",
              "count_pq3        False\n",
              "count_pq4        False\n",
              "count_pq5        False\n",
              "inventor         False\n",
              "inventor_pq1     False\n",
              "inventor_pq2     False\n",
              "inventor_pq3     False\n",
              "inventor_pq4     False\n",
              "inventor_pq5     False\n",
              "top5cit          False\n",
              "total_patents    False\n",
              "total_cites      False\n",
              "dtype: bool"
            ]
          },
          "execution_count": 73,
          "metadata": {},
          "output_type": "execute_result"
        }
      ],
      "source": [
        "college.isna().any()"
      ]
    },
    {
      "cell_type": "code",
      "execution_count": null,
      "metadata": {
        "colab": {
          "base_uri": "https://localhost:8080/"
        },
        "id": "G8GHEltT_VDv",
        "outputId": "b99966f6-7b89-4c32-fc4c-238992049718"
      },
      "outputs": [
        {
          "data": {
            "text/plain": [
              "(0.0019117000000000001, 0.007867550000000001)"
            ]
          },
          "execution_count": 74,
          "metadata": {},
          "output_type": "execute_result"
        }
      ],
      "source": [
        "# define our bins for low, medium, high percentiles of shares of investors\n",
        "low_bound = np.percentile(college['inventor'],25)\n",
        "medium_bound = np.percentile(college['inventor'],75)\n",
        "low_bound, medium_bound"
      ]
    },
    {
      "cell_type": "code",
      "execution_count": null,
      "metadata": {
        "colab": {
          "base_uri": "https://localhost:8080/",
          "height": 652
        },
        "id": "Sk_gHd0B_V3R",
        "outputId": "8b0d0d8e-0718-4411-b128-6e6f38768dd6"
      },
      "outputs": [
        {
          "data": {
            "text/html": [
              "\n",
              "  <div id=\"df-9da1bc47-35ad-43ba-ab1b-e32379428dab\">\n",
              "    <div class=\"colab-df-container\">\n",
              "      <div>\n",
              "<style scoped>\n",
              "    .dataframe tbody tr th:only-of-type {\n",
              "        vertical-align: middle;\n",
              "    }\n",
              "\n",
              "    .dataframe tbody tr th {\n",
              "        vertical-align: top;\n",
              "    }\n",
              "\n",
              "    .dataframe thead th {\n",
              "        text-align: right;\n",
              "    }\n",
              "</style>\n",
              "<table border=\"1\" class=\"dataframe\">\n",
              "  <thead>\n",
              "    <tr style=\"text-align: right;\">\n",
              "      <th></th>\n",
              "      <th>super_opeid</th>\n",
              "      <th>instnm</th>\n",
              "      <th>count</th>\n",
              "      <th>count_pq1</th>\n",
              "      <th>count_pq2</th>\n",
              "      <th>count_pq3</th>\n",
              "      <th>count_pq4</th>\n",
              "      <th>count_pq5</th>\n",
              "      <th>inventor</th>\n",
              "      <th>inventor_pq1</th>\n",
              "      <th>inventor_pq2</th>\n",
              "      <th>inventor_pq3</th>\n",
              "      <th>inventor_pq4</th>\n",
              "      <th>inventor_pq5</th>\n",
              "      <th>top5cit</th>\n",
              "      <th>total_patents</th>\n",
              "      <th>total_cites</th>\n",
              "      <th>bins</th>\n",
              "    </tr>\n",
              "  </thead>\n",
              "  <tbody>\n",
              "    <tr>\n",
              "      <th>0</th>\n",
              "      <td>1</td>\n",
              "      <td>University Of Hawaii And Hawaii Community Coll...</td>\n",
              "      <td>27002</td>\n",
              "      <td>3205</td>\n",
              "      <td>4527</td>\n",
              "      <td>5628</td>\n",
              "      <td>6957</td>\n",
              "      <td>6685</td>\n",
              "      <td>0.001037</td>\n",
              "      <td>0.000312</td>\n",
              "      <td>0.000663</td>\n",
              "      <td>0.000533</td>\n",
              "      <td>0.000719</td>\n",
              "      <td>0.002393</td>\n",
              "      <td>0.000069</td>\n",
              "      <td>22</td>\n",
              "      <td>55</td>\n",
              "      <td>low</td>\n",
              "    </tr>\n",
              "    <tr>\n",
              "      <th>1</th>\n",
              "      <td>4</td>\n",
              "      <td>Coast Community College District</td>\n",
              "      <td>24340</td>\n",
              "      <td>4183</td>\n",
              "      <td>3829</td>\n",
              "      <td>4311</td>\n",
              "      <td>5066</td>\n",
              "      <td>6951</td>\n",
              "      <td>0.001643</td>\n",
              "      <td>0.001195</td>\n",
              "      <td>0.001045</td>\n",
              "      <td>0.001160</td>\n",
              "      <td>0.001382</td>\n",
              "      <td>0.002733</td>\n",
              "      <td>0.000120</td>\n",
              "      <td>76</td>\n",
              "      <td>333</td>\n",
              "      <td>low</td>\n",
              "    </tr>\n",
              "    <tr>\n",
              "      <th>2</th>\n",
              "      <td>13</td>\n",
              "      <td>Kern &amp; North Orange County Community College D...</td>\n",
              "      <td>18765</td>\n",
              "      <td>2521</td>\n",
              "      <td>3091</td>\n",
              "      <td>3564</td>\n",
              "      <td>4410</td>\n",
              "      <td>5179</td>\n",
              "      <td>0.001119</td>\n",
              "      <td>0.001190</td>\n",
              "      <td>0.000000</td>\n",
              "      <td>0.001403</td>\n",
              "      <td>0.000907</td>\n",
              "      <td>0.001738</td>\n",
              "      <td>0.000005</td>\n",
              "      <td>28</td>\n",
              "      <td>22</td>\n",
              "      <td>low</td>\n",
              "    </tr>\n",
              "    <tr>\n",
              "      <th>3</th>\n",
              "      <td>16</td>\n",
              "      <td>San Mateo County Community College District</td>\n",
              "      <td>10936</td>\n",
              "      <td>1253</td>\n",
              "      <td>1658</td>\n",
              "      <td>2187</td>\n",
              "      <td>2513</td>\n",
              "      <td>3325</td>\n",
              "      <td>0.001646</td>\n",
              "      <td>0.002394</td>\n",
              "      <td>0.003619</td>\n",
              "      <td>0.000457</td>\n",
              "      <td>0.001194</td>\n",
              "      <td>0.001504</td>\n",
              "      <td>0.000106</td>\n",
              "      <td>35</td>\n",
              "      <td>2474</td>\n",
              "      <td>low</td>\n",
              "    </tr>\n",
              "    <tr>\n",
              "      <th>4</th>\n",
              "      <td>19</td>\n",
              "      <td>Foothill-Deanza Community College District</td>\n",
              "      <td>16619</td>\n",
              "      <td>2245</td>\n",
              "      <td>2287</td>\n",
              "      <td>2798</td>\n",
              "      <td>3206</td>\n",
              "      <td>6083</td>\n",
              "      <td>0.003189</td>\n",
              "      <td>0.003118</td>\n",
              "      <td>0.000437</td>\n",
              "      <td>0.003574</td>\n",
              "      <td>0.001871</td>\n",
              "      <td>0.004767</td>\n",
              "      <td>0.000183</td>\n",
              "      <td>137</td>\n",
              "      <td>1497</td>\n",
              "      <td>medium</td>\n",
              "    </tr>\n",
              "  </tbody>\n",
              "</table>\n",
              "</div>\n",
              "      <button class=\"colab-df-convert\" onclick=\"convertToInteractive('df-9da1bc47-35ad-43ba-ab1b-e32379428dab')\"\n",
              "              title=\"Convert this dataframe to an interactive table.\"\n",
              "              style=\"display:none;\">\n",
              "        \n",
              "  <svg xmlns=\"http://www.w3.org/2000/svg\" height=\"24px\"viewBox=\"0 0 24 24\"\n",
              "       width=\"24px\">\n",
              "    <path d=\"M0 0h24v24H0V0z\" fill=\"none\"/>\n",
              "    <path d=\"M18.56 5.44l.94 2.06.94-2.06 2.06-.94-2.06-.94-.94-2.06-.94 2.06-2.06.94zm-11 1L8.5 8.5l.94-2.06 2.06-.94-2.06-.94L8.5 2.5l-.94 2.06-2.06.94zm10 10l.94 2.06.94-2.06 2.06-.94-2.06-.94-.94-2.06-.94 2.06-2.06.94z\"/><path d=\"M17.41 7.96l-1.37-1.37c-.4-.4-.92-.59-1.43-.59-.52 0-1.04.2-1.43.59L10.3 9.45l-7.72 7.72c-.78.78-.78 2.05 0 2.83L4 21.41c.39.39.9.59 1.41.59.51 0 1.02-.2 1.41-.59l7.78-7.78 2.81-2.81c.8-.78.8-2.07 0-2.86zM5.41 20L4 18.59l7.72-7.72 1.47 1.35L5.41 20z\"/>\n",
              "  </svg>\n",
              "      </button>\n",
              "      \n",
              "  <style>\n",
              "    .colab-df-container {\n",
              "      display:flex;\n",
              "      flex-wrap:wrap;\n",
              "      gap: 12px;\n",
              "    }\n",
              "\n",
              "    .colab-df-convert {\n",
              "      background-color: #E8F0FE;\n",
              "      border: none;\n",
              "      border-radius: 50%;\n",
              "      cursor: pointer;\n",
              "      display: none;\n",
              "      fill: #1967D2;\n",
              "      height: 32px;\n",
              "      padding: 0 0 0 0;\n",
              "      width: 32px;\n",
              "    }\n",
              "\n",
              "    .colab-df-convert:hover {\n",
              "      background-color: #E2EBFA;\n",
              "      box-shadow: 0px 1px 2px rgba(60, 64, 67, 0.3), 0px 1px 3px 1px rgba(60, 64, 67, 0.15);\n",
              "      fill: #174EA6;\n",
              "    }\n",
              "\n",
              "    [theme=dark] .colab-df-convert {\n",
              "      background-color: #3B4455;\n",
              "      fill: #D2E3FC;\n",
              "    }\n",
              "\n",
              "    [theme=dark] .colab-df-convert:hover {\n",
              "      background-color: #434B5C;\n",
              "      box-shadow: 0px 1px 3px 1px rgba(0, 0, 0, 0.15);\n",
              "      filter: drop-shadow(0px 1px 2px rgba(0, 0, 0, 0.3));\n",
              "      fill: #FFFFFF;\n",
              "    }\n",
              "  </style>\n",
              "\n",
              "      <script>\n",
              "        const buttonEl =\n",
              "          document.querySelector('#df-9da1bc47-35ad-43ba-ab1b-e32379428dab button.colab-df-convert');\n",
              "        buttonEl.style.display =\n",
              "          google.colab.kernel.accessAllowed ? 'block' : 'none';\n",
              "\n",
              "        async function convertToInteractive(key) {\n",
              "          const element = document.querySelector('#df-9da1bc47-35ad-43ba-ab1b-e32379428dab');\n",
              "          const dataTable =\n",
              "            await google.colab.kernel.invokeFunction('convertToInteractive',\n",
              "                                                     [key], {});\n",
              "          if (!dataTable) return;\n",
              "\n",
              "          const docLinkHtml = 'Like what you see? Visit the ' +\n",
              "            '<a target=\"_blank\" href=https://colab.research.google.com/notebooks/data_table.ipynb>data table notebook</a>'\n",
              "            + ' to learn more about interactive tables.';\n",
              "          element.innerHTML = '';\n",
              "          dataTable['output_type'] = 'display_data';\n",
              "          await google.colab.output.renderOutput(dataTable, element);\n",
              "          const docLink = document.createElement('div');\n",
              "          docLink.innerHTML = docLinkHtml;\n",
              "          element.appendChild(docLink);\n",
              "        }\n",
              "      </script>\n",
              "    </div>\n",
              "  </div>\n",
              "  "
            ],
            "text/plain": [
              "   super_opeid                                             instnm  count  \\\n",
              "0            1  University Of Hawaii And Hawaii Community Coll...  27002   \n",
              "1            4                   Coast Community College District  24340   \n",
              "2           13  Kern & North Orange County Community College D...  18765   \n",
              "3           16        San Mateo County Community College District  10936   \n",
              "4           19         Foothill-Deanza Community College District  16619   \n",
              "\n",
              "   count_pq1  count_pq2  count_pq3  count_pq4  count_pq5  inventor  \\\n",
              "0       3205       4527       5628       6957       6685  0.001037   \n",
              "1       4183       3829       4311       5066       6951  0.001643   \n",
              "2       2521       3091       3564       4410       5179  0.001119   \n",
              "3       1253       1658       2187       2513       3325  0.001646   \n",
              "4       2245       2287       2798       3206       6083  0.003189   \n",
              "\n",
              "   inventor_pq1  inventor_pq2  inventor_pq3  inventor_pq4  inventor_pq5  \\\n",
              "0      0.000312      0.000663      0.000533      0.000719      0.002393   \n",
              "1      0.001195      0.001045      0.001160      0.001382      0.002733   \n",
              "2      0.001190      0.000000      0.001403      0.000907      0.001738   \n",
              "3      0.002394      0.003619      0.000457      0.001194      0.001504   \n",
              "4      0.003118      0.000437      0.003574      0.001871      0.004767   \n",
              "\n",
              "    top5cit  total_patents  total_cites    bins  \n",
              "0  0.000069             22           55     low  \n",
              "1  0.000120             76          333     low  \n",
              "2  0.000005             28           22     low  \n",
              "3  0.000106             35         2474     low  \n",
              "4  0.000183            137         1497  medium  "
            ]
          },
          "execution_count": 75,
          "metadata": {},
          "output_type": "execute_result"
        }
      ],
      "source": [
        "def share_bin(row):\n",
        "  if row <= 0.0019:\n",
        "    return \"low\"\n",
        "  elif row > 0.0019 and row <= 0.0079:\n",
        "    return \"medium\"\n",
        "  else:\n",
        "    return \"high\"\n",
        "\n",
        "college['bins'] = college['inventor'].apply(share_bin)\n",
        "college.head(5)"
      ]
    },
    {
      "cell_type": "code",
      "execution_count": null,
      "metadata": {
        "id": "DyaRxAfy_Yqj"
      },
      "outputs": [],
      "source": [
        "def get_ratio(data, total, column):\n",
        "  data[column+' ratio'] = data[column]/data[total]\n",
        "  return data \n",
        "college = get_ratio(college, 'count','total_patents')\n",
        "college = get_ratio(college, 'count','total_cites')\n",
        "college.head(5)\n",
        "\n",
        "college['bins'] = college['inventor'].apply(share_bin)"
      ]
    },
    {
      "cell_type": "code",
      "execution_count": null,
      "metadata": {
        "colab": {
          "base_uri": "https://localhost:8080/"
        },
        "id": "qYC0vdYFxSqG",
        "outputId": "b879a208-13ea-4df4-af5a-4b7c16092f24"
      },
      "outputs": [
        {
          "data": {
            "text/plain": [
              "((43, 21), (380, 21))"
            ]
          },
          "execution_count": 77,
          "metadata": {},
          "output_type": "execute_result"
        }
      ],
      "source": [
        "#Makes a boolean variable \n",
        "#we make two variables where on is true for is a community college and the other is not a community college\n",
        "cc = college[\"instnm\"].str.contains(\"Community College\")\n",
        "college[\"cc\"] = cc\n",
        "cc = college[college[\"cc\"] == True]\n",
        "not_cc = college[college[\"cc\"] == False]\n",
        "\n",
        "#just making sure everything has been done alright and none of the data as been lost\n",
        "cc.shape, not_cc.shape"
      ]
    },
    {
      "cell_type": "markdown",
      "metadata": {
        "id": "xXSHICHH4HHr"
      },
      "source": [
        "Here I am creating a num_pq5 variable which will allow us to better understand how many inventors there are per school and then be able to compare not only each school, but also the differetn school systems that we are comparing in this question as well"
      ]
    },
    {
      "cell_type": "code",
      "execution_count": null,
      "metadata": {
        "colab": {
          "base_uri": "https://localhost:8080/",
          "height": 913
        },
        "id": "UY-67POK4GX1",
        "outputId": "a844bc8e-832c-414b-bce2-878c68913a9b"
      },
      "outputs": [
        {
          "name": "stderr",
          "output_type": "stream",
          "text": [
            "<ipython-input-78-63ad96017d30>:2: SettingWithCopyWarning: \n",
            "A value is trying to be set on a copy of a slice from a DataFrame.\n",
            "Try using .loc[row_indexer,col_indexer] = value instead\n",
            "\n",
            "See the caveats in the documentation: https://pandas.pydata.org/pandas-docs/stable/user_guide/indexing.html#returning-a-view-versus-a-copy\n",
            "  cc[\"num_pq5\"] = cc[\"count\"] * cc[\"inventor_pq5\"]\n",
            "<ipython-input-78-63ad96017d30>:3: SettingWithCopyWarning: \n",
            "A value is trying to be set on a copy of a slice from a DataFrame.\n",
            "Try using .loc[row_indexer,col_indexer] = value instead\n",
            "\n",
            "See the caveats in the documentation: https://pandas.pydata.org/pandas-docs/stable/user_guide/indexing.html#returning-a-view-versus-a-copy\n",
            "  not_cc[\"num_pq5\"] = not_cc[\"count\"] * not_cc[\"inventor_pq5\"]\n"
          ]
        },
        {
          "data": {
            "text/html": [
              "\n",
              "  <div id=\"df-eeb60ee0-a842-49e2-80e0-e7c2add253c4\">\n",
              "    <div class=\"colab-df-container\">\n",
              "      <div>\n",
              "<style scoped>\n",
              "    .dataframe tbody tr th:only-of-type {\n",
              "        vertical-align: middle;\n",
              "    }\n",
              "\n",
              "    .dataframe tbody tr th {\n",
              "        vertical-align: top;\n",
              "    }\n",
              "\n",
              "    .dataframe thead th {\n",
              "        text-align: right;\n",
              "    }\n",
              "</style>\n",
              "<table border=\"1\" class=\"dataframe\">\n",
              "  <thead>\n",
              "    <tr style=\"text-align: right;\">\n",
              "      <th></th>\n",
              "      <th>super_opeid</th>\n",
              "      <th>instnm</th>\n",
              "      <th>count</th>\n",
              "      <th>count_pq1</th>\n",
              "      <th>count_pq2</th>\n",
              "      <th>count_pq3</th>\n",
              "      <th>count_pq4</th>\n",
              "      <th>count_pq5</th>\n",
              "      <th>inventor</th>\n",
              "      <th>inventor_pq1</th>\n",
              "      <th>...</th>\n",
              "      <th>inventor_pq4</th>\n",
              "      <th>inventor_pq5</th>\n",
              "      <th>top5cit</th>\n",
              "      <th>total_patents</th>\n",
              "      <th>total_cites</th>\n",
              "      <th>bins</th>\n",
              "      <th>total_patents ratio</th>\n",
              "      <th>total_cites ratio</th>\n",
              "      <th>cc</th>\n",
              "      <th>num_pq5</th>\n",
              "    </tr>\n",
              "  </thead>\n",
              "  <tbody>\n",
              "    <tr>\n",
              "      <th>0</th>\n",
              "      <td>1</td>\n",
              "      <td>University Of Hawaii And Hawaii Community Coll...</td>\n",
              "      <td>27002</td>\n",
              "      <td>3205</td>\n",
              "      <td>4527</td>\n",
              "      <td>5628</td>\n",
              "      <td>6957</td>\n",
              "      <td>6685</td>\n",
              "      <td>0.001037</td>\n",
              "      <td>0.000312</td>\n",
              "      <td>...</td>\n",
              "      <td>0.000719</td>\n",
              "      <td>0.002393</td>\n",
              "      <td>0.000069</td>\n",
              "      <td>22</td>\n",
              "      <td>55</td>\n",
              "      <td>low</td>\n",
              "      <td>0.000815</td>\n",
              "      <td>0.002037</td>\n",
              "      <td>True</td>\n",
              "      <td>64.626587</td>\n",
              "    </tr>\n",
              "    <tr>\n",
              "      <th>1</th>\n",
              "      <td>4</td>\n",
              "      <td>Coast Community College District</td>\n",
              "      <td>24340</td>\n",
              "      <td>4183</td>\n",
              "      <td>3829</td>\n",
              "      <td>4311</td>\n",
              "      <td>5066</td>\n",
              "      <td>6951</td>\n",
              "      <td>0.001643</td>\n",
              "      <td>0.001195</td>\n",
              "      <td>...</td>\n",
              "      <td>0.001382</td>\n",
              "      <td>0.002733</td>\n",
              "      <td>0.000120</td>\n",
              "      <td>76</td>\n",
              "      <td>333</td>\n",
              "      <td>low</td>\n",
              "      <td>0.003122</td>\n",
              "      <td>0.013681</td>\n",
              "      <td>True</td>\n",
              "      <td>66.530956</td>\n",
              "    </tr>\n",
              "    <tr>\n",
              "      <th>2</th>\n",
              "      <td>13</td>\n",
              "      <td>Kern &amp; North Orange County Community College D...</td>\n",
              "      <td>18765</td>\n",
              "      <td>2521</td>\n",
              "      <td>3091</td>\n",
              "      <td>3564</td>\n",
              "      <td>4410</td>\n",
              "      <td>5179</td>\n",
              "      <td>0.001119</td>\n",
              "      <td>0.001190</td>\n",
              "      <td>...</td>\n",
              "      <td>0.000907</td>\n",
              "      <td>0.001738</td>\n",
              "      <td>0.000005</td>\n",
              "      <td>28</td>\n",
              "      <td>22</td>\n",
              "      <td>low</td>\n",
              "      <td>0.001492</td>\n",
              "      <td>0.001172</td>\n",
              "      <td>True</td>\n",
              "      <td>32.609817</td>\n",
              "    </tr>\n",
              "    <tr>\n",
              "      <th>3</th>\n",
              "      <td>16</td>\n",
              "      <td>San Mateo County Community College District</td>\n",
              "      <td>10936</td>\n",
              "      <td>1253</td>\n",
              "      <td>1658</td>\n",
              "      <td>2187</td>\n",
              "      <td>2513</td>\n",
              "      <td>3325</td>\n",
              "      <td>0.001646</td>\n",
              "      <td>0.002394</td>\n",
              "      <td>...</td>\n",
              "      <td>0.001194</td>\n",
              "      <td>0.001504</td>\n",
              "      <td>0.000106</td>\n",
              "      <td>35</td>\n",
              "      <td>2474</td>\n",
              "      <td>low</td>\n",
              "      <td>0.003200</td>\n",
              "      <td>0.226225</td>\n",
              "      <td>True</td>\n",
              "      <td>16.445557</td>\n",
              "    </tr>\n",
              "    <tr>\n",
              "      <th>4</th>\n",
              "      <td>19</td>\n",
              "      <td>Foothill-Deanza Community College District</td>\n",
              "      <td>16619</td>\n",
              "      <td>2245</td>\n",
              "      <td>2287</td>\n",
              "      <td>2798</td>\n",
              "      <td>3206</td>\n",
              "      <td>6083</td>\n",
              "      <td>0.003189</td>\n",
              "      <td>0.003118</td>\n",
              "      <td>...</td>\n",
              "      <td>0.001871</td>\n",
              "      <td>0.004767</td>\n",
              "      <td>0.000183</td>\n",
              "      <td>137</td>\n",
              "      <td>1497</td>\n",
              "      <td>medium</td>\n",
              "      <td>0.008244</td>\n",
              "      <td>0.090078</td>\n",
              "      <td>True</td>\n",
              "      <td>79.229421</td>\n",
              "    </tr>\n",
              "  </tbody>\n",
              "</table>\n",
              "<p>5 rows × 22 columns</p>\n",
              "</div>\n",
              "      <button class=\"colab-df-convert\" onclick=\"convertToInteractive('df-eeb60ee0-a842-49e2-80e0-e7c2add253c4')\"\n",
              "              title=\"Convert this dataframe to an interactive table.\"\n",
              "              style=\"display:none;\">\n",
              "        \n",
              "  <svg xmlns=\"http://www.w3.org/2000/svg\" height=\"24px\"viewBox=\"0 0 24 24\"\n",
              "       width=\"24px\">\n",
              "    <path d=\"M0 0h24v24H0V0z\" fill=\"none\"/>\n",
              "    <path d=\"M18.56 5.44l.94 2.06.94-2.06 2.06-.94-2.06-.94-.94-2.06-.94 2.06-2.06.94zm-11 1L8.5 8.5l.94-2.06 2.06-.94-2.06-.94L8.5 2.5l-.94 2.06-2.06.94zm10 10l.94 2.06.94-2.06 2.06-.94-2.06-.94-.94-2.06-.94 2.06-2.06.94z\"/><path d=\"M17.41 7.96l-1.37-1.37c-.4-.4-.92-.59-1.43-.59-.52 0-1.04.2-1.43.59L10.3 9.45l-7.72 7.72c-.78.78-.78 2.05 0 2.83L4 21.41c.39.39.9.59 1.41.59.51 0 1.02-.2 1.41-.59l7.78-7.78 2.81-2.81c.8-.78.8-2.07 0-2.86zM5.41 20L4 18.59l7.72-7.72 1.47 1.35L5.41 20z\"/>\n",
              "  </svg>\n",
              "      </button>\n",
              "      \n",
              "  <style>\n",
              "    .colab-df-container {\n",
              "      display:flex;\n",
              "      flex-wrap:wrap;\n",
              "      gap: 12px;\n",
              "    }\n",
              "\n",
              "    .colab-df-convert {\n",
              "      background-color: #E8F0FE;\n",
              "      border: none;\n",
              "      border-radius: 50%;\n",
              "      cursor: pointer;\n",
              "      display: none;\n",
              "      fill: #1967D2;\n",
              "      height: 32px;\n",
              "      padding: 0 0 0 0;\n",
              "      width: 32px;\n",
              "    }\n",
              "\n",
              "    .colab-df-convert:hover {\n",
              "      background-color: #E2EBFA;\n",
              "      box-shadow: 0px 1px 2px rgba(60, 64, 67, 0.3), 0px 1px 3px 1px rgba(60, 64, 67, 0.15);\n",
              "      fill: #174EA6;\n",
              "    }\n",
              "\n",
              "    [theme=dark] .colab-df-convert {\n",
              "      background-color: #3B4455;\n",
              "      fill: #D2E3FC;\n",
              "    }\n",
              "\n",
              "    [theme=dark] .colab-df-convert:hover {\n",
              "      background-color: #434B5C;\n",
              "      box-shadow: 0px 1px 3px 1px rgba(0, 0, 0, 0.15);\n",
              "      filter: drop-shadow(0px 1px 2px rgba(0, 0, 0, 0.3));\n",
              "      fill: #FFFFFF;\n",
              "    }\n",
              "  </style>\n",
              "\n",
              "      <script>\n",
              "        const buttonEl =\n",
              "          document.querySelector('#df-eeb60ee0-a842-49e2-80e0-e7c2add253c4 button.colab-df-convert');\n",
              "        buttonEl.style.display =\n",
              "          google.colab.kernel.accessAllowed ? 'block' : 'none';\n",
              "\n",
              "        async function convertToInteractive(key) {\n",
              "          const element = document.querySelector('#df-eeb60ee0-a842-49e2-80e0-e7c2add253c4');\n",
              "          const dataTable =\n",
              "            await google.colab.kernel.invokeFunction('convertToInteractive',\n",
              "                                                     [key], {});\n",
              "          if (!dataTable) return;\n",
              "\n",
              "          const docLinkHtml = 'Like what you see? Visit the ' +\n",
              "            '<a target=\"_blank\" href=https://colab.research.google.com/notebooks/data_table.ipynb>data table notebook</a>'\n",
              "            + ' to learn more about interactive tables.';\n",
              "          element.innerHTML = '';\n",
              "          dataTable['output_type'] = 'display_data';\n",
              "          await google.colab.output.renderOutput(dataTable, element);\n",
              "          const docLink = document.createElement('div');\n",
              "          docLink.innerHTML = docLinkHtml;\n",
              "          element.appendChild(docLink);\n",
              "        }\n",
              "      </script>\n",
              "    </div>\n",
              "  </div>\n",
              "  "
            ],
            "text/plain": [
              "   super_opeid                                             instnm  count  \\\n",
              "0            1  University Of Hawaii And Hawaii Community Coll...  27002   \n",
              "1            4                   Coast Community College District  24340   \n",
              "2           13  Kern & North Orange County Community College D...  18765   \n",
              "3           16        San Mateo County Community College District  10936   \n",
              "4           19         Foothill-Deanza Community College District  16619   \n",
              "\n",
              "   count_pq1  count_pq2  count_pq3  count_pq4  count_pq5  inventor  \\\n",
              "0       3205       4527       5628       6957       6685  0.001037   \n",
              "1       4183       3829       4311       5066       6951  0.001643   \n",
              "2       2521       3091       3564       4410       5179  0.001119   \n",
              "3       1253       1658       2187       2513       3325  0.001646   \n",
              "4       2245       2287       2798       3206       6083  0.003189   \n",
              "\n",
              "   inventor_pq1  ...  inventor_pq4  inventor_pq5   top5cit  total_patents  \\\n",
              "0      0.000312  ...      0.000719      0.002393  0.000069             22   \n",
              "1      0.001195  ...      0.001382      0.002733  0.000120             76   \n",
              "2      0.001190  ...      0.000907      0.001738  0.000005             28   \n",
              "3      0.002394  ...      0.001194      0.001504  0.000106             35   \n",
              "4      0.003118  ...      0.001871      0.004767  0.000183            137   \n",
              "\n",
              "   total_cites    bins  total_patents ratio total_cites ratio    cc    num_pq5  \n",
              "0           55     low             0.000815          0.002037  True  64.626587  \n",
              "1          333     low             0.003122          0.013681  True  66.530956  \n",
              "2           22     low             0.001492          0.001172  True  32.609817  \n",
              "3         2474     low             0.003200          0.226225  True  16.445557  \n",
              "4         1497  medium             0.008244          0.090078  True  79.229421  \n",
              "\n",
              "[5 rows x 22 columns]"
            ]
          },
          "execution_count": 78,
          "metadata": {},
          "output_type": "execute_result"
        }
      ],
      "source": [
        "#Creating num_pq5 variable\n",
        "cc[\"num_pq5\"] = cc[\"count\"] * cc[\"inventor_pq5\"]\n",
        "not_cc[\"num_pq5\"] = not_cc[\"count\"] * not_cc[\"inventor_pq5\"]\n",
        "cc.head(5)"
      ]
    },
    {
      "cell_type": "markdown",
      "metadata": {
        "id": "Q2kmDu5Sqyha"
      },
      "source": [
        "## Exploratory Data Analysis (20 points)\n"
      ]
    },
    {
      "cell_type": "markdown",
      "metadata": {
        "id": "_jikz7siFnn4"
      },
      "source": [
        "Question 1: It can be observed from the scatterplot that there is a positive correlation between age and total income mean. There is a higher variance in the average of total income when age increases. We guess the variance can be arose from generation difference. It should be noted that the majority of the graph is dominated by GenX for the lower age groups and Baby Boomers for the higher age groups. This could be due to the years the data points were obtained and the length of time each inventor has been in the field."
      ]
    },
    {
      "cell_type": "code",
      "execution_count": null,
      "metadata": {
        "colab": {
          "base_uri": "https://localhost:8080/",
          "height": 472
        },
        "id": "weYL4O3w9kj8",
        "outputId": "1525bd6a-4cff-40c8-d904-fc004217dde1"
      },
      "outputs": [
        {
          "data": {
            "image/png": "[encoded data removed]",
            "text/plain": [
              "<Figure size 640x480 with 1 Axes>"
            ]
          },
          "metadata": {},
          "output_type": "display_data"
        }
      ],
      "source": [
        "fig, ax = plt.subplots()\n",
        "colors = {'Gen Z': 'red', 'Millennial': 'green','Gen X': 'blue','Baby Boomer': 'purple'}\n",
        "for generation, color in colors.items():\n",
        "    x = generation_relevant.loc[generation_relevant['generation'] == generation, 'age']\n",
        "    y = generation_relevant.loc[generation_relevant['generation'] == generation, 'total_inc_mean']\n",
        "    ax.scatter(x, y, color = color, label = generation)\n",
        "\n",
        "ax.set_xlabel('Age')\n",
        "ax.set_ylabel('Average of Income')\n",
        "plt.title('Age vs Average of Income')\n",
        "ax.legend()\n",
        "plt.show()"
      ]
    },
    {
      "cell_type": "markdown",
      "metadata": {
        "id": "mBNAmMKqDvTt"
      },
      "source": [
        "We can see a very high correlation between the total income of the 90th percentile and the average of total income. Even though there is a high correlation between them, we still need to be cautious about the reverse causality. We can observe one outlier in the total average income of inventors."
      ]
    },
    {
      "cell_type": "code",
      "execution_count": null,
      "metadata": {
        "colab": {
          "base_uri": "https://localhost:8080/",
          "height": 490
        },
        "id": "yWNoas0SCTeK",
        "outputId": "b0e0b5f8-1859-4f07-9cff-967142ddd9b8"
      },
      "outputs": [
        {
          "data": {
            "text/plain": [
              "Text(0.5, 1.0, 'total income the 90th percentile vs average of inventors income')"
            ]
          },
          "execution_count": 80,
          "metadata": {},
          "output_type": "execute_result"
        },
        {
          "data": {
            "image/png": "[encoded data removed]",
            "text/plain": [
              "<Figure size 640x480 with 1 Axes>"
            ]
          },
          "metadata": {},
          "output_type": "display_data"
        }
      ],
      "source": [
        "plt.scatter(x=count_gen['total_inc_p90'],y=count_gen['total_inc_mean'])\n",
        "plt.xlabel('Average Income of the 90th Percentile')\n",
        "plt.ylabel('Average of Income')\n",
        "plt.title('total income the 90th percentile vs average of inventors income')"
      ]
    },
    {
      "cell_type": "code",
      "execution_count": null,
      "metadata": {
        "colab": {
          "base_uri": "https://localhost:8080/",
          "height": 490
        },
        "id": "xrSCgz7LFEfn",
        "outputId": "8ba5423a-a188-4f14-97eb-7b8cfb5a3b39"
      },
      "outputs": [
        {
          "data": {
            "text/plain": [
              "Text(0.5, 1.0, 'the number of inventors vs average of inventors income')"
            ]
          },
          "execution_count": 81,
          "metadata": {},
          "output_type": "execute_result"
        },
        {
          "data": {
            "image/png": "[encoded data removed]",
            "text/plain": [
              "<Figure size 640x480 with 1 Axes>"
            ]
          },
          "metadata": {},
          "output_type": "display_data"
        }
      ],
      "source": [
        "plt.scatter(x=count_gen['count'],y=count_gen['total_inc_mean'])\n",
        "plt.xlabel('the number of inventors')\n",
        "plt.ylabel('Average of Income')\n",
        "plt.title('the number of inventors vs average of inventors income')\n"
      ]
    },
    {
      "cell_type": "markdown",
      "metadata": {
        "id": "lk_8LNb_54uy"
      },
      "source": [
        "Question 2: For this question we are looking at the difference between the number of inventors and patents between the Community College and non Community College Schools. To start the visualization off we look at three main variables: num_pq5, count, and total_patents. These variables will allow us to better understand how the number of inventors in each school system differs and how that impacts the number of patents coming from that schooling system as well. In order to compare apples to apples we create a num_pq5 variable which takes the proportions of investors in each school and multiplies them by the school’s count. This variable will allow us to better compare each school within a system, but also the two different school systems as well. "
      ]
    },
    {
      "cell_type": "code",
      "execution_count": null,
      "metadata": {
        "colab": {
          "base_uri": "https://localhost:8080/",
          "height": 249
        },
        "id": "XCiHCA7cGTOc",
        "outputId": "a25b4e96-0363-4751-e2e9-fd75bf5ca377"
      },
      "outputs": [
        {
          "data": {
            "text/plain": [
              "Text(0, 0.5, 'number of Total Patents')"
            ]
          },
          "execution_count": 82,
          "metadata": {},
          "output_type": "execute_result"
        },
        {
          "data": {
            "image/png": "[encoded data removed]",
            "text/plain": [
              "<Figure size 320x240 with 1 Axes>"
            ]
          },
          "metadata": {},
          "output_type": "display_data"
        }
      ],
      "source": [
        "#plotting the regression\n",
        "fig, ax = plt.subplots(dpi = 100)\n",
        "ax.scatter(not_cc[\"num_pq5\"],not_cc[\"total_patents\"])\n",
        "plt.xlabel(\"Number of Inventors from the 90th percentile\")\n",
        "plt.ylabel(\"number of Total Patents\")"
      ]
    },
    {
      "cell_type": "markdown",
      "metadata": {
        "id": "DE-SmTu5_5NC"
      },
      "source": [
        "The first scatter plot we compare for both schooling systems is a scatter plot between the number of inventors and the total number of patents coming from that school. This allows us to understand two things. Does having more inventors really correlate to having more patents? Secondly, how does this compare between the two schooling systems? When looking at the Community College scatter plot, we can see that there is a cluster of data where there are low numbers of inventors and this results in there being a low total number of patents, although there is not a lot of data showing that higher number of investors necessarily lead to there being a high number of patents. Although when looking into the non Community College scatter plot the story is completely different. Here we can see that there is a clear positive relationship between the number of inventors and and the total number of patents. Now when comparing the two scatter plot together, we can see that two schooling systems do not show the sam correlation between these two variables. Community Colleges don’t show a strong correlation while non Community Colleges do, this could be due to there only being a few points of data for Community Colleges while there being so much more data on non Community Colleges, but more on that in Part 8.\n"
      ]
    },
    {
      "cell_type": "code",
      "execution_count": null,
      "metadata": {
        "colab": {
          "base_uri": "https://localhost:8080/",
          "height": 249
        },
        "id": "5r7TTaDlJXQI",
        "outputId": "095910fc-9863-41fa-bb30-89384b91c2f5"
      },
      "outputs": [
        {
          "data": {
            "text/plain": [
              "Text(0, 0.5, 'number of Total Patents')"
            ]
          },
          "execution_count": 83,
          "metadata": {},
          "output_type": "execute_result"
        },
        {
          "data": {
            "image/png": "[encoded data removed]",
            "text/plain": [
              "<Figure size 320x240 with 1 Axes>"
            ]
          },
          "metadata": {},
          "output_type": "display_data"
        }
      ],
      "source": [
        "fig, ax = plt.subplots(dpi = 100)\n",
        "\n",
        "ax.scatter(cc[\"count\"],cc[\"total_patents\"])\n",
        "plt.xlabel(\"Number of Inventors\")\n",
        "plt.ylabel(\"number of Total Patents\")"
      ]
    },
    {
      "cell_type": "code",
      "execution_count": null,
      "metadata": {
        "colab": {
          "base_uri": "https://localhost:8080/",
          "height": 249
        },
        "id": "kTwlcTh-K8e7",
        "outputId": "eaf342d7-65d1-4ddc-ea25-a8833f1a1e80"
      },
      "outputs": [
        {
          "data": {
            "text/plain": [
              "Text(0, 0.5, 'Total Patents')"
            ]
          },
          "execution_count": 84,
          "metadata": {},
          "output_type": "execute_result"
        },
        {
          "data": {
            "image/png": "[encoded data removed]",
            "text/plain": [
              "<Figure size 320x240 with 1 Axes>"
            ]
          },
          "metadata": {},
          "output_type": "display_data"
        }
      ],
      "source": [
        "fig, ax = plt.subplots(dpi = 100)\n",
        "\n",
        "ax.scatter(not_cc[\"count\"],not_cc[\"total_patents\"])\n",
        "plt.xlabel(\"School's Count\")\n",
        "plt.ylabel(\"Total Patents\")"
      ]
    },
    {
      "cell_type": "markdown",
      "metadata": {
        "id": "WBqnNOHq_7-6"
      },
      "source": [
        "The scatter plot above is taking the concerns of the first question and exploring that. In this plot we are trying to understand if the size of the school matters in terms of the number of patents coming from that school. To answer this question we plot and compare the Count and Total patents variables. When looking at the results for the Community College scatterplot we see that there may potentially be a weak positive relationship between the two variables, where having a high school count leads to there being more patents. Although for non Community Colleges the story is quite the opposite. There is a large cluster of data in the bottom left hand corner, signifying that the lower the count of the school the less number of patents. Although there is a lot of variability in the data there are many schools on the extremes such as having a high count with lower patents, or low count with higher number of patents. Overall from these two scatter plots we can understand that there is not much of a correlation between the count of the school and the number of patents that schools produce. This partially answers our concerns from question 1, where there is not much of a relation between the size, but still does not address how more data on Community Colleges would impact the results.\n"
      ]
    },
    {
      "cell_type": "markdown",
      "metadata": {
        "id": "rRI9Mp8bzy-N"
      },
      "source": [
        "### **Looking at the median size for each schooling system**"
      ]
    },
    {
      "cell_type": "code",
      "execution_count": null,
      "metadata": {
        "colab": {
          "base_uri": "https://localhost:8080/"
        },
        "id": "f7G_I2-_zs-Z",
        "outputId": "adb81add-48a0-496f-b4a7-778d08031aca"
      },
      "outputs": [
        {
          "data": {
            "text/plain": [
              "13331.0"
            ]
          },
          "execution_count": 85,
          "metadata": {},
          "output_type": "execute_result"
        }
      ],
      "source": [
        "cc[\"count\"].median()"
      ]
    },
    {
      "cell_type": "code",
      "execution_count": null,
      "metadata": {
        "colab": {
          "base_uri": "https://localhost:8080/"
        },
        "id": "9U7iFybV0Dvn",
        "outputId": "d4535338-a771-4fed-ebf3-f42def6d658f"
      },
      "outputs": [
        {
          "data": {
            "text/plain": [
              "7669.5"
            ]
          },
          "execution_count": 86,
          "metadata": {},
          "output_type": "execute_result"
        }
      ],
      "source": [
        "not_cc[\"count\"].median()"
      ]
    },
    {
      "cell_type": "markdown",
      "metadata": {
        "id": "I6qh5Pjcqyhb"
      },
      "source": [
        "## Modeling (20 points)"
      ]
    },
    {
      "cell_type": "markdown",
      "metadata": {
        "id": "M-MpZKeNIkun"
      },
      "source": [
        "## **Research Question 1:**"
      ]
    },
    {
      "cell_type": "markdown",
      "metadata": {
        "id": "xAnrlcPCrkxE"
      },
      "source": [
        "Linear regression of count vs total income and then breaking it down by the generations. Utilizing a linear regression to visualize the correlation between count and total income mean. Creating a scatterplot to get a visualization of the total income mean over count of inventors and categorizing it by the generation to observe the differences in generations as well. For the Linear Regression Model we simply applied a simple linear regression using Table 4a. Choosing a regression model with multiple variables allows us to see the effect of generation simultaneously and it is easier for us to compare their effects on average of total income. Besides, when we look at the scatter plot age vs. total_inc_mean, note that the age factor is an indicator of generation, we observe a certain linear relationship. Therefore, linear regression becomes a valid model for us. "
      ]
    },
    {
      "cell_type": "code",
      "execution_count": null,
      "metadata": {
        "colab": {
          "base_uri": "https://localhost:8080/"
        },
        "id": "n-ymayMWGPnT",
        "outputId": "92a76cf2-ebd2-4150-9b5e-5a9c6986b228"
      },
      "outputs": [
        {
          "name": "stdout",
          "output_type": "stream",
          "text": [
            "                                 OLS Regression Results                                \n",
            "=======================================================================================\n",
            "Dep. Variable:         total_inc_mean   R-squared (uncentered):                   0.435\n",
            "Model:                            OLS   Adj. R-squared (uncentered):              0.432\n",
            "Method:                 Least Squares   F-statistic:                              162.5\n",
            "Date:                Tue, 02 May 2023   Prob (F-statistic):                    3.87e-78\n",
            "Time:                        05:13:37   Log-Likelihood:                         -722.17\n",
            "No. Observations:                 637   AIC:                                      1450.\n",
            "Df Residuals:                     634   BIC:                                      1464.\n",
            "Df Model:                           3                                                  \n",
            "Covariance Type:            nonrobust                                                  \n",
            "===============================================================================\n",
            "                  coef    std err          t      P>|t|      [0.025      0.975]\n",
            "-------------------------------------------------------------------------------\n",
            "Millennial     -1.3311      0.139     -9.567      0.000      -1.604      -1.058\n",
            "Baby Boomer     0.9479      0.051     18.477      0.000       0.847       1.049\n",
            "count       -2.441e-05   1.66e-06    -14.750      0.000   -2.77e-05   -2.12e-05\n",
            "==============================================================================\n",
            "Omnibus:                       75.145   Durbin-Watson:                   0.466\n",
            "Prob(Omnibus):                  0.000   Jarque-Bera (JB):              121.884\n",
            "Skew:                          -0.774   Prob(JB):                     3.41e-27\n",
            "Kurtosis:                       4.483   Cond. No.                     1.21e+05\n",
            "==============================================================================\n",
            "\n",
            "Notes:\n",
            "[1] R² is computed without centering (uncentered) since the model does not contain a constant.\n",
            "[2] Standard Errors assume that the covariance matrix of the errors is correctly specified.\n",
            "[3] The condition number is large, 1.21e+05. This might indicate that there are\n",
            "strong multicollinearity or other numerical problems.\n"
          ]
        }
      ],
      "source": [
        "X = count_gen[['Millennial','Baby Boomer','count']]\n",
        "y = standardization(count_gen, 'total_inc_mean')\n",
        "\n",
        "#Fit linear regression model\n",
        "\n",
        "model = sm.OLS(y,X).fit()\n",
        "print(model.summary())"
      ]
    },
    {
      "cell_type": "code",
      "execution_count": null,
      "metadata": {
        "colab": {
          "base_uri": "https://localhost:8080/"
        },
        "id": "Uksp4Cv2Hoc2",
        "outputId": "73f0d079-d48d-449c-93d9-9b6ddf00de52"
      },
      "outputs": [
        {
          "name": "stdout",
          "output_type": "stream",
          "text": [
            "                                 OLS Regression Results                                \n",
            "=======================================================================================\n",
            "Dep. Variable:         total_inc_mean   R-squared (uncentered):                   0.334\n",
            "Model:                            OLS   Adj. R-squared (uncentered):              0.331\n",
            "Method:                 Least Squares   F-statistic:                              105.8\n",
            "Date:                Tue, 02 May 2023   Prob (F-statistic):                    1.48e-55\n",
            "Time:                        05:13:37   Log-Likelihood:                         -774.55\n",
            "No. Observations:                 637   AIC:                                      1555.\n",
            "Df Residuals:                     634   BIC:                                      1568.\n",
            "Df Model:                           3                                                  \n",
            "Covariance Type:            nonrobust                                                  \n",
            "==============================================================================\n",
            "                 coef    std err          t      P>|t|      [0.025      0.975]\n",
            "------------------------------------------------------------------------------\n",
            "Millennial    -1.7636      0.151    -11.708      0.000      -2.059      -1.468\n",
            "Gen X         -1.0967      0.079    -13.910      0.000      -1.251      -0.942\n",
            "count        1.02e-05   1.55e-06      6.566      0.000    7.15e-06    1.33e-05\n",
            "==============================================================================\n",
            "Omnibus:                       10.431   Durbin-Watson:                   0.424\n",
            "Prob(Omnibus):                  0.005   Jarque-Bera (JB):               13.618\n",
            "Skew:                          -0.174   Prob(JB):                      0.00110\n",
            "Kurtosis:                       3.627   Cond. No.                     1.21e+05\n",
            "==============================================================================\n",
            "\n",
            "Notes:\n",
            "[1] R² is computed without centering (uncentered) since the model does not contain a constant.\n",
            "[2] Standard Errors assume that the covariance matrix of the errors is correctly specified.\n",
            "[3] The condition number is large, 1.21e+05. This might indicate that there are\n",
            "strong multicollinearity or other numerical problems.\n"
          ]
        }
      ],
      "source": [
        "X = count_gen[['Millennial','Gen X','count']]\n",
        "y = standardization(count_gen, 'total_inc_mean')\n",
        "\n",
        "#Fit linear regression model\n",
        "\n",
        "model = sm.OLS(y,X).fit()\n",
        "print(model.summary())"
      ]
    },
    {
      "cell_type": "markdown",
      "metadata": {
        "id": "2WT7yD88tCLu"
      },
      "source": [
        "Applying a Ridge and Lasso Regression onto the whole data. Ridge and Lasso Regression models were chosen as the second model for this question since we would like to prevent overfitting and improve the generalization performance of the model. By applying the regression, it will tell us whether our Linear Regression did not have problems with overfitting. In order to gain a better understanding of whether the results from the data was derived from bias or variance, applying the ridge lasso regression allows us to get a better visualization of this by creating a training and test set using our dataset. \n",
        "\n"
      ]
    },
    {
      "cell_type": "code",
      "execution_count": null,
      "metadata": {
        "colab": {
          "base_uri": "https://localhost:8080/"
        },
        "id": "JNy8BtZuHqRs",
        "outputId": "c8e3e880-95a1-499c-ba50-a3d044384e75"
      },
      "outputs": [
        {
          "name": "stdout",
          "output_type": "stream",
          "text": [
            "Linear\n",
            "Train MSE:  0.5968243233211934\n",
            "Test MSE: 0.4230726732515421 \n",
            "\n",
            "Ridge\n",
            "Train MSE:  0.5972973991579058\n",
            "Test MSE: 0.42237578989095814 \n",
            "\n",
            "Lasso\n",
            "Train MSE:  0.9757171199673612\n",
            "Test MSE: 0.7824809148565345 \n",
            "\n"
          ]
        },
        {
          "data": {
            "text/plain": [
              "{'Linear': (0.5968243233211934, 0.4230726732515421),\n",
              " 'Ridge': (0.5972973991579058, 0.42237578989095814),\n",
              " 'Lasso': (0.9757171199673612, 0.7824809148565345)}"
            ]
          },
          "execution_count": 89,
          "metadata": {},
          "output_type": "execute_result"
        }
      ],
      "source": [
        "def run_model(X_train, X_test, y_train, y_test, model):\n",
        "    \n",
        "    model = model.fit(X_train, y_train)\n",
        "    train_mse = mean_squared_error(y_train, model.predict(X_train))\n",
        "    pred = model.predict(X_test)\n",
        "    test_mse = mean_squared_error(y_test, pred)\n",
        "    return train_mse, test_mse\n",
        "\n",
        "models = {'Linear': LinearRegression(),\n",
        "         'Ridge': Ridge(),\n",
        "         'Lasso': Lasso()}\n",
        "\n",
        "\"\"\" Given dict of models, fits and predicts on test and training data.\n",
        "    Returns train and test MSE as a dict of models.\n",
        "\"\"\"\n",
        "def results(models):\n",
        "    results = {}\n",
        "    for model in models.keys():\n",
        "   \n",
        "        train_mse, test_mse = run_model(X_train, X_test, y_train, y_test, models[model])\n",
        "        print(model)\n",
        "        print('Train MSE: ',train_mse)\n",
        "        print('Test MSE:', test_mse,'\\n')\n",
        "        results[model] = train_mse, test_mse\n",
        "    return results\n",
        "X_train, X_test, y_train, y_test = train_test_split(X, y, test_size=.20, random_state=21)\n",
        "results(models)"
      ]
    },
    {
      "cell_type": "markdown",
      "metadata": {
        "id": "vKcpvoynIpQp"
      },
      "source": [
        "## **Research Question 2:**"
      ]
    },
    {
      "cell_type": "markdown",
      "metadata": {
        "id": "X_fINx765i8W"
      },
      "source": [
        "In order to answer this question we decided on using a simple Linear Regression and a Decision Tree Classifier. These two models would help us easily compare and contrast various statistics, model results, and analysis between the two different schooling systems. Using Raj Chetty’s data from Table 3 we have decided to use the following features and variables: Count, inventor_pq5, total_patents. We decided to use the count variable as a means to compare and potentially provide solutions as to why there is or is not a difference between the two schooling systems regarding the number of patents they are producing. The inventor_pq5 variable is the proportion of inventors in a specific school. In our analysis we create a num_pq5 variable that is the product of the proportion of inventors and the student population variable. Creating this variable allows us to easily compare the number of inventors between different schools and school systems. The total number of patents variable is our prediction variable for all of the models surrounding this question as we are trying to figure out which other variables and factors greatly influence the productivity of a school, which is measured in the total number of patents produced by that school. \n",
        "\n",
        "We selected Decision Tree Classifier as the other model for this question to predict the share of inventors in each college, then classify the college as a low share of inventor, medium share of inventor, or high share of inventor based on the results from the decision tree. We decided to include the number of inventors in the top 20% quintile, and total_patents, total_cites because they are the variables that are correlated with the share of inventors. Since the other variables such as the number of inventors in the bottom 20% quintile are also related to the number of inventors in the top 20% quintile, we decided to not include those variables to avoid redundant information. Besides, we chose Decision Tree over Random Forest because Decision Tree Classifier tends to give us a more accurate result because it builds a deeper tree which relies on more information. We are aware that the Decision Tree has a higher variance compared to Random Forest. However, since the explanatory variables selected in this model are not too many, the advantage of using Random Forest, which selects the most relevant variables, is not very helpful. \n",
        "\n",
        "For the Linear Regression Model we simply divided the Table 3 data into two dataframes and applied a simple linear regression. As far as bias-variance tradeoff and other factors surround model choice, the simple linear regression provides a simple but effective way to compare different variable with the total number of patents produced, and any variability in the data would result in the linear regression model not being a good prediction model for the total number of patents. The simplicity and effectiveness of this model could not have been overlooked and is the reason this is one of our models for this question.\n"
      ]
    },
    {
      "cell_type": "markdown",
      "metadata": {
        "id": "NKavuaE20I_S"
      },
      "source": [
        "## Community college linear regression models"
      ]
    },
    {
      "cell_type": "code",
      "execution_count": null,
      "metadata": {
        "colab": {
          "base_uri": "https://localhost:8080/"
        },
        "id": "U5z69L5uIjCZ",
        "outputId": "121cff64-7c12-4cf8-e7a8-1754d04eab16"
      },
      "outputs": [
        {
          "name": "stdout",
          "output_type": "stream",
          "text": [
            "                            OLS Regression Results                            \n",
            "==============================================================================\n",
            "Dep. Variable:          total_patents   R-squared:                       0.837\n",
            "Model:                            OLS   Adj. R-squared:                  0.833\n",
            "Method:                 Least Squares   F-statistic:                     210.2\n",
            "Date:                Tue, 02 May 2023   Prob (F-statistic):           9.79e-18\n",
            "Time:                        05:13:37   Log-Likelihood:                -204.76\n",
            "No. Observations:                  43   AIC:                             413.5\n",
            "Df Residuals:                      41   BIC:                             417.0\n",
            "Df Model:                           1                                         \n",
            "Covariance Type:            nonrobust                                         \n",
            "==============================================================================\n",
            "                 coef    std err          t      P>|t|      [0.025      0.975]\n",
            "------------------------------------------------------------------------------\n",
            "const        -13.2158      5.820     -2.271      0.028     -24.969      -1.463\n",
            "num_pq5        1.4968      0.103     14.499      0.000       1.288       1.705\n",
            "==============================================================================\n",
            "Omnibus:                       10.113   Durbin-Watson:                   2.238\n",
            "Prob(Omnibus):                  0.006   Jarque-Bera (JB):               12.227\n",
            "Skew:                          -0.726   Prob(JB):                      0.00221\n",
            "Kurtosis:                       5.171   Cond. No.                         74.2\n",
            "==============================================================================\n",
            "\n",
            "Notes:\n",
            "[1] Standard Errors assume that the covariance matrix of the errors is correctly specified.\n"
          ]
        }
      ],
      "source": [
        "#num_pq5 vs total patents\n",
        "x = cc[[\"num_pq5\"]]\n",
        "y = cc[[\"total_patents\"]]\n",
        "x_count = cc[[\"count\"]]\n",
        "x = sm.add_constant(x)\n",
        "model = sm.OLS(y,x).fit()\n",
        "print(model.summary())"
      ]
    },
    {
      "cell_type": "code",
      "execution_count": null,
      "metadata": {
        "colab": {
          "base_uri": "https://localhost:8080/"
        },
        "id": "Sj2umBbwI27J",
        "outputId": "cfc66e13-6704-48a6-a633-59aecefd80af"
      },
      "outputs": [
        {
          "name": "stdout",
          "output_type": "stream",
          "text": [
            "                            OLS Regression Results                            \n",
            "==============================================================================\n",
            "Dep. Variable:          total_patents   R-squared:                       0.830\n",
            "Model:                            OLS   Adj. R-squared:                  0.826\n",
            "Method:                 Least Squares   F-statistic:                     200.0\n",
            "Date:                Tue, 02 May 2023   Prob (F-statistic):           2.29e-17\n",
            "Time:                        05:13:37   Log-Likelihood:                -205.65\n",
            "No. Observations:                  43   AIC:                             415.3\n",
            "Df Residuals:                      41   BIC:                             418.8\n",
            "Df Model:                           1                                         \n",
            "Covariance Type:            nonrobust                                         \n",
            "==============================================================================\n",
            "                 coef    std err          t      P>|t|      [0.025      0.975]\n",
            "------------------------------------------------------------------------------\n",
            "const        -17.4493      6.151     -2.837      0.007     -29.872      -5.027\n",
            "count          0.0034      0.000     14.144      0.000       0.003       0.004\n",
            "==============================================================================\n",
            "Omnibus:                        9.003   Durbin-Watson:                   1.698\n",
            "Prob(Omnibus):                  0.011   Jarque-Bera (JB):               20.112\n",
            "Skew:                           0.071   Prob(JB):                     4.29e-05\n",
            "Kurtosis:                       6.347   Cond. No.                     3.48e+04\n",
            "==============================================================================\n",
            "\n",
            "Notes:\n",
            "[1] Standard Errors assume that the covariance matrix of the errors is correctly specified.\n",
            "[2] The condition number is large, 3.48e+04. This might indicate that there are\n",
            "strong multicollinearity or other numerical problems.\n"
          ]
        }
      ],
      "source": [
        "#count vs total patents\n",
        "x_count = sm.add_constant(x_count)\n",
        "model = sm.OLS(y,x_count).fit()\n",
        "print(model.summary())"
      ]
    },
    {
      "cell_type": "code",
      "execution_count": null,
      "metadata": {
        "id": "CPH4T0wb0Xy6"
      },
      "outputs": [],
      "source": [
        "# split data into test and train set for cc\n",
        "train_cc, test_cc = np.split(shuffle(cc),[32])\n",
        "X_traincc = train_cc.copy()\n",
        "X_traincc = X_traincc.loc[:,['inventor_pq5','total_patents ratio','total_cites ratio']]\n",
        "y_traincc = train_cc['bins']\n",
        "X_testcc = test_cc.copy()\n",
        "X_testcc = X_testcc.loc[:,['inventor_pq5','total_patents ratio','total_cites ratio']]\n",
        "y_testcc = test_cc['bins']\n",
        "## standardize data: different scales. good for linear regression, lasso, clustering"
      ]
    },
    {
      "cell_type": "code",
      "execution_count": null,
      "metadata": {
        "colab": {
          "base_uri": "https://localhost:8080/",
          "height": 75
        },
        "id": "ZPPb7WAp0Z_B",
        "outputId": "17cb3488-1752-4a7c-b553-2914c21da213"
      },
      "outputs": [
        {
          "data": {
            "text/html": [
              "<style>#sk-container-id-1 {color: black;background-color: white;}#sk-container-id-1 pre{padding: 0;}#sk-container-id-1 div.sk-toggleable {background-color: white;}#sk-container-id-1 label.sk-toggleable__label {cursor: pointer;display: block;width: 100%;margin-bottom: 0;padding: 0.3em;box-sizing: border-box;text-align: center;}#sk-container-id-1 label.sk-toggleable__label-arrow:before {content: \"▸\";float: left;margin-right: 0.25em;color: #696969;}#sk-container-id-1 label.sk-toggleable__label-arrow:hover:before {color: black;}#sk-container-id-1 div.sk-estimator:hover label.sk-toggleable__label-arrow:before {color: black;}#sk-container-id-1 div.sk-toggleable__content {max-height: 0;max-width: 0;overflow: hidden;text-align: left;background-color: #f0f8ff;}#sk-container-id-1 div.sk-toggleable__content pre {margin: 0.2em;color: black;border-radius: 0.25em;background-color: #f0f8ff;}#sk-container-id-1 input.sk-toggleable__control:checked~div.sk-toggleable__content {max-height: 200px;max-width: 100%;overflow: auto;}#sk-container-id-1 input.sk-toggleable__control:checked~label.sk-toggleable__label-arrow:before {content: \"▾\";}#sk-container-id-1 div.sk-estimator input.sk-toggleable__control:checked~label.sk-toggleable__label {background-color: #d4ebff;}#sk-container-id-1 div.sk-label input.sk-toggleable__control:checked~label.sk-toggleable__label {background-color: #d4ebff;}#sk-container-id-1 input.sk-hidden--visually {border: 0;clip: rect(1px 1px 1px 1px);clip: rect(1px, 1px, 1px, 1px);height: 1px;margin: -1px;overflow: hidden;padding: 0;position: absolute;width: 1px;}#sk-container-id-1 div.sk-estimator {font-family: monospace;background-color: #f0f8ff;border: 1px dotted black;border-radius: 0.25em;box-sizing: border-box;margin-bottom: 0.5em;}#sk-container-id-1 div.sk-estimator:hover {background-color: #d4ebff;}#sk-container-id-1 div.sk-parallel-item::after {content: \"\";width: 100%;border-bottom: 1px solid gray;flex-grow: 1;}#sk-container-id-1 div.sk-label:hover label.sk-toggleable__label {background-color: #d4ebff;}#sk-container-id-1 div.sk-serial::before {content: \"\";position: absolute;border-left: 1px solid gray;box-sizing: border-box;top: 0;bottom: 0;left: 50%;z-index: 0;}#sk-container-id-1 div.sk-serial {display: flex;flex-direction: column;align-items: center;background-color: white;padding-right: 0.2em;padding-left: 0.2em;position: relative;}#sk-container-id-1 div.sk-item {position: relative;z-index: 1;}#sk-container-id-1 div.sk-parallel {display: flex;align-items: stretch;justify-content: center;background-color: white;position: relative;}#sk-container-id-1 div.sk-item::before, #sk-container-id-1 div.sk-parallel-item::before {content: \"\";position: absolute;border-left: 1px solid gray;box-sizing: border-box;top: 0;bottom: 0;left: 50%;z-index: -1;}#sk-container-id-1 div.sk-parallel-item {display: flex;flex-direction: column;z-index: 1;position: relative;background-color: white;}#sk-container-id-1 div.sk-parallel-item:first-child::after {align-self: flex-end;width: 50%;}#sk-container-id-1 div.sk-parallel-item:last-child::after {align-self: flex-start;width: 50%;}#sk-container-id-1 div.sk-parallel-item:only-child::after {width: 0;}#sk-container-id-1 div.sk-dashed-wrapped {border: 1px dashed gray;margin: 0 0.4em 0.5em 0.4em;box-sizing: border-box;padding-bottom: 0.4em;background-color: white;}#sk-container-id-1 div.sk-label label {font-family: monospace;font-weight: bold;display: inline-block;line-height: 1.2em;}#sk-container-id-1 div.sk-label-container {text-align: center;}#sk-container-id-1 div.sk-container {/* jupyter's `normalize.less` sets `[hidden] { display: none; }` but bootstrap.min.css set `[hidden] { display: none !important; }` so we also need the `!important` here to be able to override the default hidden behavior on the sphinx rendered scikit-learn.org. See: https://github.com/scikit-learn/scikit-learn/issues/21755 */display: inline-block !important;position: relative;}#sk-container-id-1 div.sk-text-repr-fallback {display: none;}</style><div id=\"sk-container-id-1\" class=\"sk-top-container\"><div class=\"sk-text-repr-fallback\"><pre>DecisionTreeClassifier(random_state=40)</pre><b>In a Jupyter environment, please rerun this cell to show the HTML representation or trust the notebook. <br />On GitHub, the HTML representation is unable to render, please try loading this page with nbviewer.org.</b></div><div class=\"sk-container\" hidden><div class=\"sk-item\"><div class=\"sk-estimator sk-toggleable\"><input class=\"sk-toggleable__control sk-hidden--visually\" id=\"sk-estimator-id-1\" type=\"checkbox\" checked><label for=\"sk-estimator-id-1\" class=\"sk-toggleable__label sk-toggleable__label-arrow\">DecisionTreeClassifier</label><div class=\"sk-toggleable__content\"><pre>DecisionTreeClassifier(random_state=40)</pre></div></div></div></div></div>"
            ],
            "text/plain": [
              "DecisionTreeClassifier(random_state=40)"
            ]
          },
          "execution_count": 93,
          "metadata": {},
          "output_type": "execute_result"
        }
      ],
      "source": [
        "from sklearn.tree import DecisionTreeClassifier\n",
        "model_tree = DecisionTreeClassifier(random_state = 40)\n",
        "model_tree.fit(X_traincc, y_traincc)"
      ]
    },
    {
      "cell_type": "code",
      "execution_count": null,
      "metadata": {
        "colab": {
          "base_uri": "https://localhost:8080/"
        },
        "id": "R0XAMNpZ0big",
        "outputId": "bfa02ddc-c56f-44c1-8d61-d47fa2f0972a"
      },
      "outputs": [
        {
          "data": {
            "text/plain": [
              "0.9090909090909091"
            ]
          },
          "execution_count": 94,
          "metadata": {},
          "output_type": "execute_result"
        }
      ],
      "source": [
        "# performance of model\n",
        "predictions_train = model_tree.predict(X_traincc)\n",
        "predictions_test = model_tree.predict(X_testcc)\n",
        "accuracy_tree = np.sum(predictions_test == y_testcc)/len(predictions_test)\n",
        "accuracy_tree"
      ]
    },
    {
      "cell_type": "markdown",
      "metadata": {
        "id": "TvS_JEsk0ULq"
      },
      "source": [
        "## Non Community College Linear Regression Models"
      ]
    },
    {
      "cell_type": "code",
      "execution_count": null,
      "metadata": {
        "colab": {
          "base_uri": "https://localhost:8080/"
        },
        "id": "C0ieajcIJkKc",
        "outputId": "67f5508d-2dc8-4876-8cf8-16719719b9c7"
      },
      "outputs": [
        {
          "name": "stdout",
          "output_type": "stream",
          "text": [
            "                            OLS Regression Results                            \n",
            "==============================================================================\n",
            "Dep. Variable:          total_patents   R-squared:                       0.918\n",
            "Model:                            OLS   Adj. R-squared:                  0.918\n",
            "Method:                 Least Squares   F-statistic:                     4231.\n",
            "Date:                Tue, 02 May 2023   Prob (F-statistic):          2.27e-207\n",
            "Time:                        05:13:38   Log-Likelihood:                -2028.8\n",
            "No. Observations:                 380   AIC:                             4062.\n",
            "Df Residuals:                     378   BIC:                             4069.\n",
            "Df Model:                           1                                         \n",
            "Covariance Type:            nonrobust                                         \n",
            "==============================================================================\n",
            "                 coef    std err          t      P>|t|      [0.025      0.975]\n",
            "------------------------------------------------------------------------------\n",
            "const        -12.4937      3.169     -3.943      0.000     -18.724      -6.263\n",
            "num_pq5        1.6922      0.026     65.046      0.000       1.641       1.743\n",
            "==============================================================================\n",
            "Omnibus:                      343.621   Durbin-Watson:                   1.884\n",
            "Prob(Omnibus):                  0.000   Jarque-Bera (JB):            20247.208\n",
            "Skew:                           3.435   Prob(JB):                         0.00\n",
            "Kurtosis:                      38.094   Cond. No.                         149.\n",
            "==============================================================================\n",
            "\n",
            "Notes:\n",
            "[1] Standard Errors assume that the covariance matrix of the errors is correctly specified.\n"
          ]
        }
      ],
      "source": [
        "#num_pq5 vs total patents\n",
        "X = not_cc[[\"num_pq5\"]]\n",
        "Y = not_cc[[\"total_patents\"]]\n",
        "X_count = not_cc[[\"count\"]]\n",
        "X = sm.add_constant(X)\n",
        "model = sm.OLS(Y,X).fit()\n",
        "print(model.summary())"
      ]
    },
    {
      "cell_type": "code",
      "execution_count": null,
      "metadata": {
        "colab": {
          "base_uri": "https://localhost:8080/"
        },
        "id": "rv4O5cTcK5d0",
        "outputId": "4b57d2ab-bbe8-44f1-c719-816b688f471f"
      },
      "outputs": [
        {
          "name": "stdout",
          "output_type": "stream",
          "text": [
            "                            OLS Regression Results                            \n",
            "==============================================================================\n",
            "Dep. Variable:          total_patents   R-squared:                       0.166\n",
            "Model:                            OLS   Adj. R-squared:                  0.164\n",
            "Method:                 Least Squares   F-statistic:                     75.16\n",
            "Date:                Tue, 02 May 2023   Prob (F-statistic):           1.29e-16\n",
            "Time:                        05:13:38   Log-Likelihood:                -2469.5\n",
            "No. Observations:                 380   AIC:                             4943.\n",
            "Df Residuals:                     378   BIC:                             4951.\n",
            "Df Model:                           1                                         \n",
            "Covariance Type:            nonrobust                                         \n",
            "==============================================================================\n",
            "                 coef    std err          t      P>|t|      [0.025      0.975]\n",
            "------------------------------------------------------------------------------\n",
            "const         20.9186     12.838      1.629      0.104      -4.324      46.161\n",
            "count          0.0093      0.001      8.670      0.000       0.007       0.011\n",
            "==============================================================================\n",
            "Omnibus:                      311.655   Durbin-Watson:                   1.675\n",
            "Prob(Omnibus):                  0.000   Jarque-Bera (JB):             5230.140\n",
            "Skew:                           3.460   Prob(JB):                         0.00\n",
            "Kurtosis:                      19.806   Cond. No.                     1.86e+04\n",
            "==============================================================================\n",
            "\n",
            "Notes:\n",
            "[1] Standard Errors assume that the covariance matrix of the errors is correctly specified.\n",
            "[2] The condition number is large, 1.86e+04. This might indicate that there are\n",
            "strong multicollinearity or other numerical problems.\n"
          ]
        }
      ],
      "source": [
        "#count vs total patents\n",
        "X_count = sm.add_constant(X_count)\n",
        "model = sm.OLS(Y,X_count).fit()\n",
        "print(model.summary())"
      ]
    },
    {
      "cell_type": "code",
      "execution_count": null,
      "metadata": {
        "id": "PTtl95jGLYc-"
      },
      "outputs": [],
      "source": [
        "# split data into test and train set for not_cc\n",
        "# using data without outliers\n",
        "from sklearn.utils import shuffle\n",
        "train_noncc, test_noncc = np.split(shuffle(not_cc),[240])\n",
        "X_train = train_noncc.copy()\n",
        "X_train = X_train.loc[:,['inventor_pq5','total_patents','total_cites']]\n",
        "y_train = train_noncc['bins']\n",
        "X_test = test_noncc.copy()\n",
        "X_test = X_test.loc[:,['inventor_pq5','total_patents','total_cites']]\n",
        "y_test = test_noncc['bins']"
      ]
    },
    {
      "cell_type": "code",
      "execution_count": null,
      "metadata": {
        "colab": {
          "base_uri": "https://localhost:8080/",
          "height": 75
        },
        "id": "rgiD5kRFLZxE",
        "outputId": "510dd2f8-d6ba-480f-e2bc-3d82d46252e8"
      },
      "outputs": [
        {
          "data": {
            "text/html": [
              "<style>#sk-container-id-2 {color: black;background-color: white;}#sk-container-id-2 pre{padding: 0;}#sk-container-id-2 div.sk-toggleable {background-color: white;}#sk-container-id-2 label.sk-toggleable__label {cursor: pointer;display: block;width: 100%;margin-bottom: 0;padding: 0.3em;box-sizing: border-box;text-align: center;}#sk-container-id-2 label.sk-toggleable__label-arrow:before {content: \"▸\";float: left;margin-right: 0.25em;color: #696969;}#sk-container-id-2 label.sk-toggleable__label-arrow:hover:before {color: black;}#sk-container-id-2 div.sk-estimator:hover label.sk-toggleable__label-arrow:before {color: black;}#sk-container-id-2 div.sk-toggleable__content {max-height: 0;max-width: 0;overflow: hidden;text-align: left;background-color: #f0f8ff;}#sk-container-id-2 div.sk-toggleable__content pre {margin: 0.2em;color: black;border-radius: 0.25em;background-color: #f0f8ff;}#sk-container-id-2 input.sk-toggleable__control:checked~div.sk-toggleable__content {max-height: 200px;max-width: 100%;overflow: auto;}#sk-container-id-2 input.sk-toggleable__control:checked~label.sk-toggleable__label-arrow:before {content: \"▾\";}#sk-container-id-2 div.sk-estimator input.sk-toggleable__control:checked~label.sk-toggleable__label {background-color: #d4ebff;}#sk-container-id-2 div.sk-label input.sk-toggleable__control:checked~label.sk-toggleable__label {background-color: #d4ebff;}#sk-container-id-2 input.sk-hidden--visually {border: 0;clip: rect(1px 1px 1px 1px);clip: rect(1px, 1px, 1px, 1px);height: 1px;margin: -1px;overflow: hidden;padding: 0;position: absolute;width: 1px;}#sk-container-id-2 div.sk-estimator {font-family: monospace;background-color: #f0f8ff;border: 1px dotted black;border-radius: 0.25em;box-sizing: border-box;margin-bottom: 0.5em;}#sk-container-id-2 div.sk-estimator:hover {background-color: #d4ebff;}#sk-container-id-2 div.sk-parallel-item::after {content: \"\";width: 100%;border-bottom: 1px solid gray;flex-grow: 1;}#sk-container-id-2 div.sk-label:hover label.sk-toggleable__label {background-color: #d4ebff;}#sk-container-id-2 div.sk-serial::before {content: \"\";position: absolute;border-left: 1px solid gray;box-sizing: border-box;top: 0;bottom: 0;left: 50%;z-index: 0;}#sk-container-id-2 div.sk-serial {display: flex;flex-direction: column;align-items: center;background-color: white;padding-right: 0.2em;padding-left: 0.2em;position: relative;}#sk-container-id-2 div.sk-item {position: relative;z-index: 1;}#sk-container-id-2 div.sk-parallel {display: flex;align-items: stretch;justify-content: center;background-color: white;position: relative;}#sk-container-id-2 div.sk-item::before, #sk-container-id-2 div.sk-parallel-item::before {content: \"\";position: absolute;border-left: 1px solid gray;box-sizing: border-box;top: 0;bottom: 0;left: 50%;z-index: -1;}#sk-container-id-2 div.sk-parallel-item {display: flex;flex-direction: column;z-index: 1;position: relative;background-color: white;}#sk-container-id-2 div.sk-parallel-item:first-child::after {align-self: flex-end;width: 50%;}#sk-container-id-2 div.sk-parallel-item:last-child::after {align-self: flex-start;width: 50%;}#sk-container-id-2 div.sk-parallel-item:only-child::after {width: 0;}#sk-container-id-2 div.sk-dashed-wrapped {border: 1px dashed gray;margin: 0 0.4em 0.5em 0.4em;box-sizing: border-box;padding-bottom: 0.4em;background-color: white;}#sk-container-id-2 div.sk-label label {font-family: monospace;font-weight: bold;display: inline-block;line-height: 1.2em;}#sk-container-id-2 div.sk-label-container {text-align: center;}#sk-container-id-2 div.sk-container {/* jupyter's `normalize.less` sets `[hidden] { display: none; }` but bootstrap.min.css set `[hidden] { display: none !important; }` so we also need the `!important` here to be able to override the default hidden behavior on the sphinx rendered scikit-learn.org. See: https://github.com/scikit-learn/scikit-learn/issues/21755 */display: inline-block !important;position: relative;}#sk-container-id-2 div.sk-text-repr-fallback {display: none;}</style><div id=\"sk-container-id-2\" class=\"sk-top-container\"><div class=\"sk-text-repr-fallback\"><pre>DecisionTreeClassifier(random_state=41)</pre><b>In a Jupyter environment, please rerun this cell to show the HTML representation or trust the notebook. <br />On GitHub, the HTML representation is unable to render, please try loading this page with nbviewer.org.</b></div><div class=\"sk-container\" hidden><div class=\"sk-item\"><div class=\"sk-estimator sk-toggleable\"><input class=\"sk-toggleable__control sk-hidden--visually\" id=\"sk-estimator-id-2\" type=\"checkbox\" checked><label for=\"sk-estimator-id-2\" class=\"sk-toggleable__label sk-toggleable__label-arrow\">DecisionTreeClassifier</label><div class=\"sk-toggleable__content\"><pre>DecisionTreeClassifier(random_state=41)</pre></div></div></div></div></div>"
            ],
            "text/plain": [
              "DecisionTreeClassifier(random_state=41)"
            ]
          },
          "execution_count": 98,
          "metadata": {},
          "output_type": "execute_result"
        }
      ],
      "source": [
        "from sklearn.tree import DecisionTreeClassifier\n",
        "model_tree = DecisionTreeClassifier(random_state = 41)\n",
        "model_tree.fit(X_train, y_train)\n"
      ]
    },
    {
      "cell_type": "code",
      "execution_count": null,
      "metadata": {
        "id": "DBP7Cpk6LbUJ"
      },
      "outputs": [],
      "source": [
        "# performance of the model\n",
        "predictions_train = model_tree.predict(X_train)"
      ]
    },
    {
      "cell_type": "code",
      "execution_count": null,
      "metadata": {
        "colab": {
          "base_uri": "https://localhost:8080/"
        },
        "id": "hK4Rg7TRLdOT",
        "outputId": "93eb55d2-df2c-4305-9932-3d82de66c537"
      },
      "outputs": [
        {
          "data": {
            "text/plain": [
              "0.8214285714285714"
            ]
          },
          "execution_count": 100,
          "metadata": {},
          "output_type": "execute_result"
        }
      ],
      "source": [
        "predictions_test = model_tree.predict(X_test)\n",
        "accuracy_tree = np.sum(predictions_test == y_test)/len(predictions_test)\n",
        "accuracy_tree"
      ]
    },
    {
      "cell_type": "markdown",
      "metadata": {
        "id": "q7sWFQ8HLhmg"
      },
      "source": [
        "Be aware that the prediction only works for colleges with more than 10 inventors. For college having less than 10 inventors, the model may not be applicable. "
      ]
    },
    {
      "cell_type": "markdown",
      "metadata": {
        "id": "HSk4555Rqyhc"
      },
      "source": [
        "## Interpretation and Conclusions (20 points)\n",
        "Question 1: \n",
        "The coefficients of Millennial and Gen X are  negative. The interpretation of them is, holding the number of inventions are  the same, being  Millennial or Gen X has a lower average mean of income. One of the possible reasons can be the different exposure, including the factors of policy, invention opportunity, to innovation among generations. Even though many institutions encourage innovation, recent inventors do not receive rewards as much as other generations, such as Baby boomers. Note that the coefficient of Baby Boomer has a positive sign in our model. Since all coefficients for generations are statistically significant, we can conclude that the environmental factor – generation plays a significant role in the average income of inventors. \n",
        "\n",
        "No matter which generation that inventors belong to, they should have a fair opportunity to earn higher income. This is important because it relates to upward mobility in the inventor group. Decision makers should establish policies that ensure inventor remuneration rights. The possible area that lacks regulation can come from the compensation that is determined by the employer. We should investigate if corporations are being too flexible in terms of compensation to inventor employees. If more corporations value their inventor employees more, all coefficients of generation will be positive. In other words, we would expect to see identical effects on average of inventor income across generations. \n",
        "\n",
        "Caveat? We had to remove one outlier in the dataframe that had a total income mean  that was largely negative because it would skew our results. We understand this as important information because a negative total income can occur in the real world when in the innovation sector. We infer that this negative total income mean tells us that there is a great amount of debt in this group of the data and that can be absolutely normal because in order to innovate there is a great amount of risk that comes with it. Besides, when we were building the model with count, Millennial, baby Boomer and total_inc_p90 (the average income of the 90th percentile), we observed that the coefficients of generation have very high standard error. The coefficients were not stable. We solved this problem by removing the total_inc_p90 column because we believed there is a reverse causality which drives up the variance of our coefficients.\n",
        "\n",
        "Our model is not perfect even though it has very low mean squared error in the training set and test set. However, when we look at the OLS regression results, the R^2 is only 0.435. Majority of the variance in the mean of total income is not captured in our final model. More explanatory variables should be considered if we want to  predict the total income mean more accurately. More information could be created or extracted from other datasets, rather than taking information from one table. In addition, since the data does not include immigrants in the U.S., we cannot use our models to generalize the result to the entire U.S. population.\n",
        "Resource:https://lalaw.com/knowledge-center/article/thinking-globally-inventor-remuneration-rights\n",
        "\n",
        "Question 2: This question’s main goal was to look at both schooling systems: Community College and non Community College, and understand if there is a significant difference in the number of inventors and patents coming out of these schools. One model used to answer this question was simple linear regression. This model would be able to predict, given someone attending one of these school systems, based on parameters such as their school’s size or number of inventors how many patents could potentially be produced. We’ll start off by looking at the linear regression model for Community Colleges first and see what the results are highlighting and how we can use them to take appropriate action. \n",
        "\n",
        "In the first Linear Regression Model we are looking at the relationship between the number of Inventors at a Community College and using that to predict how many patents a Community College may produce based on that variable. When looking at the OLS Regression results we see that we get the following equation for our Linear Regression: Y = 12.9147 + 0.6007X. This equation’s intercept is saying that with no inventors at a Community College, there will still be approximately 13 patents filed by that school. The slope of this regression means that each inventor at the school will produce 0.6 patents. To put this in more applicable terms this means that approximately for every 5 inventors there will be 3 patents filed by that school. Although when looking at other summary statistics such as the t-value for the coefficient we see that it is 4.029. This translates to our num_pq5 variable being a good predictor on how the total number of patents shifts when there is a change in the number of inventors at a school. Furthermore, the p-values for this model are less than 0.05 which means that the variable num_pq5 is again proven to be a strong indicator and predictor for the total number of patents. \n",
        "\n",
        "When we compare the similar regression done for non Community Colleges we see a similar strong regression model and results. The Linear Regression Equation for non Community Colleges is Y = -12.4937 + 1.6922X. This equation’s slope means that for every additional inventor at a non Community College there is an approximately 1.7 patent increase from that school. Although when looking at this model’s intercept we see that it is approximately -12.5, which means that a school with no inventors actually has a negative number of patents. Logically this makes no sense, but when we take into consideration the previous scatter plot regarding the size of non Community Colleges this result begins to make sense. Non Community College schools tend to have a larger student population and this negative coefficient is trying to show that in a school of such size there needs to be more student inventors in order to have a positive number of patents coming from that school. Again when looking at the t-value for the coefficient we see we have an extremely high 65. This means that the number of inventors at a specific school is an extremely good predictor for the total number of patents coming from that school. The p-value further supports this conclusion. Additionally when looking at the R-squared value we see a value of 0.918. This value means that 91.8% of fluctuations in the total number of patents can be explained by the number of inventors at that school. All these statistical measures point to the fact that the number of inventors does an incredible job at predicting the total number of patents produced by a school in either school system.\n",
        "\n",
        "The other Linear Regression we look at is looking at the School’s population and how well that can predict the total number of patents produced. This additional question was to look further into how much the school’s size plays a role in the total number of patents, after we observed that Community College would have a significantly higher student population when compared to non Community Colleges. When looking at the regression for Community Colleges we get the following equation: Y = 17.0362 + 0.0010X. This equation’s slope says that with one additional student there is an increase in the total number of patents from that school by 0.001. To put this into perspective every 1000 additional students constitute an increase in the total number of patents by 1. Now when further looking into the summary statistics we see some disappointing results. The t-value for the coefficient is 2.086 which indicates that the Count variable is not a good predictor for the total number of patents coming from a school. Additionally with higher p-values and extremely low R-squared values we can conclude that there is not a strong relationship between the student population and the total number of patents at a school. Now these results and conclusions go for both Community Colleges and non Community Colleges, as we see similar summary statistics.\n",
        "\n",
        "Now that we understand the summary statistics for each model we can begin to formulate conclusions about these results. When looking at the first model regarding the number of inventors and the total number of patents produced from a specific school, a general conclusion is that the more inventors a school has the more patents a school will produce. This means that equipping students with the right skill set in engineering, mathematics, and other disciplines aligned with becoming an inventor should be promoted in order to help increase the total number of patents from that school. When diving deeper into each specific schooling system we have different conclusions. When looking at the coefficient of Community Colleges vs non Community Colleges we see that the coefficient is lower for Community Colleges. This means that with more inventors there is a smaller impact on the total number of patents compared to that of non Community Colleges. Now this can be for several reasons such as the resources that a 4-year provides are generally better than a Community College as funding from tuition and other sources is much higher. IN order to tackle this problem we would want more resources and knowledge pushed in Community Colleges in order to increase the number of inventors and increase the number of total patents. Although if we want to increase the coefficient, then we would want to promote better resources and a greater incentive for students to become inventors and invent more. This would help increase the total number of patents per person and increase the coefficient By increasing the coefficient we are simply increasing the number of patents a single person is producing in their lifetime. \n",
        "\n",
        "The Linear Regression model between the number of inventors and the total number of patents is a phenomenal model, and can be used to predict the total number of patents for a school in either schooling system accurately. Although there is one flaw in this model and has to do with the raw data. In Raj Chetty’s Table 3 we are working with simply 43 Community Colleges. Now compared to the 300+ non Community Colleges, this number is miniscule. There is a possibility that these 43 Community Colleges are not grasping the full picture and story of the Community College inventors. For this reason in future revision, obtaining more data on Community Colleges would allow us to create a more sound and potentially less biased model. Besides this fact, there are not many other major flaws in the Linear Regression Model for these two variables.\n"
      ]
    },
    {
      "cell_type": "code",
      "execution_count": null,
      "metadata": {
        "id": "b6s9SRyCc9PC"
      },
      "outputs": [],
      "source": []
    }
  ],
  "metadata": {
    "colab": {
      "provenance": []
    },
    "kernelspec": {
      "display_name": "Python 3 (ipykernel)",
      "language": "python",
      "name": "python3"
    },
    "language_info": {
      "codemirror_mode": {
        "name": "ipython",
        "version": 3
      },
      "file_extension": ".py",
      "mimetype": "text/x-python",
      "name": "python",
      "nbconvert_exporter": "python",
      "pygments_lexer": "ipython3",
      "version": "3.8.10"
    }
  },
  "nbformat": 4,
  "nbformat_minor": 0
}
